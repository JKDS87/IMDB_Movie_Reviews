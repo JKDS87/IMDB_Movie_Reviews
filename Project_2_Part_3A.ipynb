{
 "cells": [
  {
   "cell_type": "markdown",
   "id": "2fd7442b-ce2d-4131-b149-85b0cb96f0e9",
   "metadata": {},
   "source": [
    "# Project 2 Part 3A\n",
    "\n",
    "**Student:** Matthew Malueg"
   ]
  },
  {
   "cell_type": "markdown",
   "id": "015dac0e-e66a-4207-aab4-84856bd58eba",
   "metadata": {},
   "source": [
    "## Imports, Loading, Preparing Files"
   ]
  },
  {
   "cell_type": "code",
   "execution_count": 1,
   "id": "ff485106-5fad-4a1a-8f1d-9d3d2e2594a0",
   "metadata": {},
   "outputs": [
    {
     "data": {
      "text/plain": [
       "['.ipynb_checkpoints',\n",
       " 'final_tmdb_data_2001.csv.gz',\n",
       " 'final_tmdb_data_2002.csv.gz',\n",
       " 'movies.mwb',\n",
       " 'movies.mwb.bak',\n",
       " 'movies_erd.png',\n",
       " 'movie_basics.csv',\n",
       " 'movie_ratings.csv',\n",
       " 'title-akas-us-only.csv',\n",
       " 'title.basics.tsv.gz',\n",
       " 'title.ratings.tsv.gz',\n",
       " 'tmdb_api_results2001.json',\n",
       " 'tmdb_api_results2002.json',\n",
       " 'tmdb_results_combined.csv.gz',\n",
       " 'tmdb_results_combined_test.csv.gz']"
      ]
     },
     "execution_count": 1,
     "metadata": {},
     "output_type": "execute_result"
    }
   ],
   "source": [
    "# Import packages\n",
    "import glob\n",
    "import pandas as pd\n",
    "import os, time, json\n",
    "import tmdbsimple as tmdb \n",
    "from tqdm.notebook import tqdm_notebook\n",
    "# Create the folder for saving files (if it doesn't exist)\n",
    "FOLDER = \"Data/\"\n",
    "os.makedirs(FOLDER, exist_ok=True)\n",
    "os.listdir(FOLDER)"
   ]
  },
  {
   "cell_type": "code",
   "execution_count": 2,
   "id": "2074bafc-620a-46a4-8714-96b90cb07f2e",
   "metadata": {},
   "outputs": [],
   "source": [
    "# Load in the dataframe from Project 2 Part 1 as basics\n",
    "basics = pd.read_csv('Data/movie_basics.csv')"
   ]
  },
  {
   "cell_type": "markdown",
   "id": "e34baa28-77eb-4cc6-a0f3-bd010d78b98d",
   "metadata": {},
   "source": [
    "**API Credentials**"
   ]
  },
  {
   "cell_type": "code",
   "execution_count": 3,
   "id": "28df36fc-bff0-42d6-b95d-58d40e80b334",
   "metadata": {},
   "outputs": [
    {
     "data": {
      "text/plain": [
       "dict_keys(['api-key'])"
      ]
     },
     "execution_count": 3,
     "metadata": {},
     "output_type": "execute_result"
    }
   ],
   "source": [
    "with open('/Users/Malue/.secret/tmdb_api.json', 'r') as f:\n",
    "    login = json.load(f)\n",
    "# Display the keys of the loaded dict\n",
    "login.keys()"
   ]
  },
  {
   "cell_type": "code",
   "execution_count": 4,
   "id": "7396ad2d-cb19-4066-a05d-e7f74350f010",
   "metadata": {},
   "outputs": [],
   "source": [
    "tmdb.API_KEY = login['api-key']"
   ]
  },
  {
   "cell_type": "markdown",
   "id": "2ff82176-709f-4e8f-b693-86614a6d77de",
   "metadata": {},
   "source": [
    "**Custom functions**"
   ]
  },
  {
   "cell_type": "code",
   "execution_count": 5,
   "id": "0861c3b6-f31c-401f-b979-25e5d09d7207",
   "metadata": {},
   "outputs": [],
   "source": [
    "def get_movie_with_rating(movie_id):\n",
    "    \"\"\"Adapted from source = https://github.com/celiao/tmdbsimple\"\"\"\n",
    "    # Get the movie object for the current id\n",
    "    movie = tmdb.Movies(movie_id)\n",
    "\n",
    "    # Save the .info and .releases dictionaries\n",
    "    info = movie.info()\n",
    "    releases = movie.releases()\n",
    "\n",
    "    # Loop through countries in releases\n",
    "    for c in releases['countries']:\n",
    "        # If the country abbreviation==US\n",
    "        if c['iso_3166_1']=='US':\n",
    "            # Save a 'certification' key in info with the fetched certification\n",
    "            info['certification'] = c['certification']\n",
    "\n",
    "    return info"
   ]
  },
  {
   "cell_type": "code",
   "execution_count": 6,
   "id": "1254dddc-94ef-4c69-a7d2-904cc935cb9b",
   "metadata": {},
   "outputs": [],
   "source": [
    "def write_json(new_data, filename): \n",
    "    \"\"\"Appends a list of records (new_data) to a json file (filename). \n",
    "    Adapted from: https://www.geeksforgeeks.org/append-to-json-file-using-python/\"\"\"  \n",
    "    \n",
    "    with open(filename,'r+') as file:\n",
    "        # First we load existing data into a dict.\n",
    "        file_data = json.load(file)\n",
    "        ## Choose extend or append\n",
    "        if (type(new_data) == list) & (type(file_data) == list):\n",
    "            file_data.extend(new_data)\n",
    "        else:\n",
    "             file_data.append(new_data)\n",
    "        # Sets file's current position at offset.\n",
    "        file.seek(0)\n",
    "        # convert back to json.\n",
    "        json.dump(file_data, file)"
   ]
  },
  {
   "cell_type": "markdown",
   "id": "39a94283-882c-41e2-9190-cfc2e68842d1",
   "metadata": {},
   "source": [
    "**Test API credentials and fucntions**"
   ]
  },
  {
   "cell_type": "code",
   "execution_count": 7,
   "id": "e3fee821-5766-4eb4-97f9-ab65603cb913",
   "metadata": {},
   "outputs": [
    {
     "data": {
      "text/plain": [
       "{'adult': False,\n",
       " 'backdrop_path': '/9BBTo63ANSmhC4e6r62OJFuK2GL.jpg',\n",
       " 'belongs_to_collection': {'id': 86311,\n",
       "  'name': 'The Avengers Collection',\n",
       "  'poster_path': '/yFSIUVTCvgYrpalUktulvk3Gi5Y.jpg',\n",
       "  'backdrop_path': '/zuW6fOiusv4X9nnW3paHGfXcSll.jpg'},\n",
       " 'budget': 220000000,\n",
       " 'genres': [{'id': 878, 'name': 'Science Fiction'},\n",
       "  {'id': 28, 'name': 'Action'},\n",
       "  {'id': 12, 'name': 'Adventure'}],\n",
       " 'homepage': 'https://www.marvel.com/movies/the-avengers',\n",
       " 'id': 24428,\n",
       " 'imdb_id': 'tt0848228',\n",
       " 'original_language': 'en',\n",
       " 'original_title': 'The Avengers',\n",
       " 'overview': 'When an unexpected enemy emerges and threatens global safety and security, Nick Fury, director of the international peacekeeping agency known as S.H.I.E.L.D., finds himself in need of a team to pull the world back from the brink of disaster. Spanning the globe, a daring recruitment effort begins!',\n",
       " 'popularity': 118.15,\n",
       " 'poster_path': '/RYMX2wcKCBAr24UyPD7xwmjaTn.jpg',\n",
       " 'production_companies': [{'id': 420,\n",
       "   'logo_path': '/hUzeosd33nzE5MCNsZxCGEKTXaQ.png',\n",
       "   'name': 'Marvel Studios',\n",
       "   'origin_country': 'US'}],\n",
       " 'production_countries': [{'iso_3166_1': 'US',\n",
       "   'name': 'United States of America'}],\n",
       " 'release_date': '2012-04-25',\n",
       " 'revenue': 1518815515,\n",
       " 'runtime': 143,\n",
       " 'spoken_languages': [{'english_name': 'English',\n",
       "   'iso_639_1': 'en',\n",
       "   'name': 'English'},\n",
       "  {'english_name': 'Hindi', 'iso_639_1': 'hi', 'name': 'हिन्दी'},\n",
       "  {'english_name': 'Russian', 'iso_639_1': 'ru', 'name': 'Pусский'}],\n",
       " 'status': 'Released',\n",
       " 'tagline': 'Some assembly required.',\n",
       " 'title': 'The Avengers',\n",
       " 'video': False,\n",
       " 'vote_average': 7.711,\n",
       " 'vote_count': 29285,\n",
       " 'certification': 'PG-13'}"
      ]
     },
     "execution_count": 7,
     "metadata": {},
     "output_type": "execute_result"
    }
   ],
   "source": [
    "avengers = get_movie_with_rating('tt0848228')\n",
    "avengers"
   ]
  },
  {
   "cell_type": "code",
   "execution_count": 8,
   "id": "fab3abc7-ed8c-47b5-aba3-3e7361b4cbb7",
   "metadata": {},
   "outputs": [
    {
     "data": {
      "text/plain": [
       "{'adult': False,\n",
       " 'backdrop_path': '/qom1SZSENdmHFNZBXbtJAU0WTlC.jpg',\n",
       " 'belongs_to_collection': None,\n",
       " 'budget': 29000000,\n",
       " 'genres': [{'id': 10749, 'name': 'Romance'}, {'id': 18, 'name': 'Drama'}],\n",
       " 'homepage': 'http://www.newline.com/properties/notebookthe.html',\n",
       " 'id': 11036,\n",
       " 'imdb_id': 'tt0332280',\n",
       " 'original_language': 'en',\n",
       " 'original_title': 'The Notebook',\n",
       " 'overview': \"An epic love story centered around an older man who reads aloud to a woman with Alzheimer's. From a faded notebook, the old man's words bring to life the story about a couple who is separated by World War II, and is then passionately reunited, seven years later, after they have taken different paths.\",\n",
       " 'popularity': 74.884,\n",
       " 'poster_path': '/rNzQyW4f8B8cQeg7Dgj3n6eT5k9.jpg',\n",
       " 'production_companies': [{'id': 12,\n",
       "   'logo_path': '/mevhneWSqbjU22D1MXNd4H9x0r0.png',\n",
       "   'name': 'New Line Cinema',\n",
       "   'origin_country': 'US'},\n",
       "  {'id': 1565, 'logo_path': None, 'name': 'Avery Pix', 'origin_country': 'US'},\n",
       "  {'id': 2605,\n",
       "   'logo_path': None,\n",
       "   'name': 'Gran Via Productions',\n",
       "   'origin_country': 'US'}],\n",
       " 'production_countries': [{'iso_3166_1': 'US',\n",
       "   'name': 'United States of America'}],\n",
       " 'release_date': '2004-06-25',\n",
       " 'revenue': 115603229,\n",
       " 'runtime': 123,\n",
       " 'spoken_languages': [{'english_name': 'English',\n",
       "   'iso_639_1': 'en',\n",
       "   'name': 'English'}],\n",
       " 'status': 'Released',\n",
       " 'tagline': 'Behind every great love is a great story.',\n",
       " 'title': 'The Notebook',\n",
       " 'video': False,\n",
       " 'vote_average': 7.881,\n",
       " 'vote_count': 10694,\n",
       " 'certification': 'PG-13'}"
      ]
     },
     "execution_count": 8,
     "metadata": {},
     "output_type": "execute_result"
    }
   ],
   "source": [
    "notebook = get_movie_with_rating('tt0332280')\n",
    "notebook"
   ]
  },
  {
   "cell_type": "markdown",
   "id": "d8c83468-0a7f-493a-b466-dea61f7571d1",
   "metadata": {},
   "source": [
    "## Objectives - loading additional data for stakeholder"
   ]
  },
  {
   "cell_type": "markdown",
   "id": "9b6685eb-588a-4713-9739-3e07bc788417",
   "metadata": {},
   "source": [
    "**Retrieve data with API calls to TMDB**"
   ]
  },
  {
   "cell_type": "code",
   "execution_count": 9,
   "id": "99ce84d4-dca9-41cb-b89d-f54ea39242e7",
   "metadata": {},
   "outputs": [
    {
     "data": {
      "application/vnd.jupyter.widget-view+json": {
       "model_id": "7544d9b9089b4d9aa301adaae8f149d0",
       "version_major": 2,
       "version_minor": 0
      },
      "text/plain": [
       "Years completed:   0%|          | 0/2 [00:00<?, ?it/s]"
      ]
     },
     "metadata": {},
     "output_type": "display_data"
    },
    {
     "name": "stdout",
     "output_type": "stream",
     "text": [
      "The file Data/tmdb_api_results2001.json already exists.\n"
     ]
    },
    {
     "data": {
      "application/vnd.jupyter.widget-view+json": {
       "model_id": "30a4080257474719a226425677e4845d",
       "version_major": 2,
       "version_minor": 0
      },
      "text/plain": [
       "Movies from 2001:   0%|          | 0/219 [00:00<?, ?it/s]"
      ]
     },
     "metadata": {},
     "output_type": "display_data"
    },
    {
     "name": "stdout",
     "output_type": "stream",
     "text": [
      "- Total errors: 219\n",
      "The file Data/tmdb_api_results2002.json already exists.\n"
     ]
    },
    {
     "data": {
      "application/vnd.jupyter.widget-view+json": {
       "model_id": "1e712398fae647889f36b4f6a66f95ed",
       "version_major": 2,
       "version_minor": 0
      },
      "text/plain": [
       "Movies from 2002:   0%|          | 0/278 [00:00<?, ?it/s]"
      ]
     },
     "metadata": {},
     "output_type": "display_data"
    },
    {
     "name": "stdout",
     "output_type": "stream",
     "text": [
      "- Total errors: 497\n"
     ]
    }
   ],
   "source": [
    "years = [2001, 2002]\n",
    "errors = []\n",
    "\n",
    "## OUTER LOOP\n",
    "for YEAR in tqdm_notebook(years, f'Years completed'):\n",
    "    \n",
    "    ## CREATE NEW FILE FOR EACH YEAR\n",
    "    # Defining the JSON file to store results for a certain year\n",
    "    JSON_FILE = f'{FOLDER}tmdb_api_results{YEAR}.json'\n",
    "    \n",
    "    # Check if file exists\n",
    "    file_exists = os.path.isfile(JSON_FILE)\n",
    "    \n",
    "    # If file does not exist: create it\n",
    "    if file_exists == False:\n",
    "        # Print message indicating so\n",
    "        print(f'Creating {JSON_FILE} for API results for {YEAR}.')\n",
    "        # Save empty dict with key 'imdb_id' and value 0\n",
    "        with open(JSON_FILE, 'w') as f:\n",
    "            json.dump([{'imdb_id':0}], f)\n",
    "    \n",
    "    elif file_exists == True:\n",
    "        print(f'The file {JSON_FILE} already exists.')\n",
    "    \n",
    "    \n",
    "    ## SELECT MOVIES FOR CURRENT {YEAR}\n",
    "    # Saving new year as the current dataframe\n",
    "    df = basics.loc[ basics['startYear'] == YEAR].copy()\n",
    "    # Saving movie ids to separate variable\n",
    "    movie_ids = df['tconst']\n",
    "    \n",
    "    # Load existing data from json into a dataframe called 'previous_df'\n",
    "    previous_df = pd.read_json(JSON_FILE)\n",
    "    \n",
    "    # Filter out any ids that are already in the JSON_FILE\n",
    "    movie_ids_to_get = movie_ids[~movie_ids.isin(previous_df['imdb_id'])]\n",
    "\n",
    "    \n",
    "    ## INNER LOOP\n",
    "    for movie_id in tqdm_notebook(movie_ids_to_get, f'Movies from {YEAR}'): # (list, title of progress bar)\n",
    "            \n",
    "        # Get index and movie id from list\n",
    "        try:\n",
    "            # Retrieve the data for the movie_id\n",
    "            temp = get_movie_with_rating(movie_id)\n",
    "            # Append/extend results to existing file using a pre-made function\n",
    "            write_json(temp, JSON_FILE)\n",
    "            # Short 20 ms sleep to prevent overwhelming server with API calls\n",
    "            time.sleep(0.02)\n",
    "        except Exception as e:\n",
    "            errors.append([movie_id, e])\n",
    "    \n",
    "    ## AFTER COMPLETING LOOP\n",
    "    # Print a message showing the number of movie_id's that caused an error\n",
    "    print(f'- Total errors: {len(errors)}')\n",
    "    \n",
    "    # Save file\n",
    "    final_year_df = pd.read_json(JSON_FILE)\n",
    "    final_year_df.to_csv(f'{FOLDER}final_tmdb_data_{YEAR}.csv.gz', compression='gzip',\n",
    "                         index=False)"
   ]
  },
  {
   "cell_type": "markdown",
   "id": "d7bc2114-1ed4-4415-b2ce-2ee68c7ab468",
   "metadata": {},
   "source": [
    "**Combine API call results into single dataframe**"
   ]
  },
  {
   "cell_type": "code",
   "execution_count": 10,
   "id": "08da3083-183e-4e51-b0e9-f8e5f25d3115",
   "metadata": {},
   "outputs": [
    {
     "data": {
      "text/plain": [
       "['Data\\\\final_tmdb_data_2001.csv.gz', 'Data\\\\final_tmdb_data_2002.csv.gz']"
      ]
     },
     "execution_count": 10,
     "metadata": {},
     "output_type": "execute_result"
    }
   ],
   "source": [
    "# Use glob to get all filepaths that match pattern\n",
    "tmdb_files = sorted(glob.glob('Data/final_tmdb_data*.csv.gz'))\n",
    "tmdb_files"
   ]
  },
  {
   "cell_type": "code",
   "execution_count": 11,
   "id": "4972960a-40b9-4766-9f78-7611aa6eba4e",
   "metadata": {},
   "outputs": [
    {
     "data": {
      "text/html": [
       "<div>\n",
       "<style scoped>\n",
       "    .dataframe tbody tr th:only-of-type {\n",
       "        vertical-align: middle;\n",
       "    }\n",
       "\n",
       "    .dataframe tbody tr th {\n",
       "        vertical-align: top;\n",
       "    }\n",
       "\n",
       "    .dataframe thead th {\n",
       "        text-align: right;\n",
       "    }\n",
       "</style>\n",
       "<table border=\"1\" class=\"dataframe\">\n",
       "  <thead>\n",
       "    <tr style=\"text-align: right;\">\n",
       "      <th></th>\n",
       "      <th>imdb_id</th>\n",
       "      <th>adult</th>\n",
       "      <th>backdrop_path</th>\n",
       "      <th>belongs_to_collection</th>\n",
       "      <th>budget</th>\n",
       "      <th>genres</th>\n",
       "      <th>homepage</th>\n",
       "      <th>id</th>\n",
       "      <th>original_language</th>\n",
       "      <th>original_title</th>\n",
       "      <th>...</th>\n",
       "      <th>revenue</th>\n",
       "      <th>runtime</th>\n",
       "      <th>spoken_languages</th>\n",
       "      <th>status</th>\n",
       "      <th>tagline</th>\n",
       "      <th>title</th>\n",
       "      <th>video</th>\n",
       "      <th>vote_average</th>\n",
       "      <th>vote_count</th>\n",
       "      <th>certification</th>\n",
       "    </tr>\n",
       "  </thead>\n",
       "  <tbody>\n",
       "    <tr>\n",
       "      <th>0</th>\n",
       "      <td>0</td>\n",
       "      <td>NaN</td>\n",
       "      <td>NaN</td>\n",
       "      <td>NaN</td>\n",
       "      <td>NaN</td>\n",
       "      <td>NaN</td>\n",
       "      <td>NaN</td>\n",
       "      <td>NaN</td>\n",
       "      <td>NaN</td>\n",
       "      <td>NaN</td>\n",
       "      <td>...</td>\n",
       "      <td>NaN</td>\n",
       "      <td>NaN</td>\n",
       "      <td>NaN</td>\n",
       "      <td>NaN</td>\n",
       "      <td>NaN</td>\n",
       "      <td>NaN</td>\n",
       "      <td>NaN</td>\n",
       "      <td>NaN</td>\n",
       "      <td>NaN</td>\n",
       "      <td>NaN</td>\n",
       "    </tr>\n",
       "    <tr>\n",
       "      <th>1</th>\n",
       "      <td>tt0035423</td>\n",
       "      <td>0.0</td>\n",
       "      <td>/tJLV3BAlHOgscVOrA99Wnb2gAef.jpg</td>\n",
       "      <td>NaN</td>\n",
       "      <td>48000000.0</td>\n",
       "      <td>[{'id': 10749, 'name': 'Romance'}, {'id': 14, ...</td>\n",
       "      <td>NaN</td>\n",
       "      <td>11232.0</td>\n",
       "      <td>en</td>\n",
       "      <td>Kate &amp; Leopold</td>\n",
       "      <td>...</td>\n",
       "      <td>76019048.0</td>\n",
       "      <td>118.0</td>\n",
       "      <td>[{'english_name': 'French', 'iso_639_1': 'fr',...</td>\n",
       "      <td>Released</td>\n",
       "      <td>If they lived in the same century, they'd be p...</td>\n",
       "      <td>Kate &amp; Leopold</td>\n",
       "      <td>0.0</td>\n",
       "      <td>6.319</td>\n",
       "      <td>1238.0</td>\n",
       "      <td>PG-13</td>\n",
       "    </tr>\n",
       "    <tr>\n",
       "      <th>2</th>\n",
       "      <td>tt0114447</td>\n",
       "      <td>0.0</td>\n",
       "      <td>NaN</td>\n",
       "      <td>NaN</td>\n",
       "      <td>0.0</td>\n",
       "      <td>[{'id': 53, 'name': 'Thriller'}, {'id': 28, 'n...</td>\n",
       "      <td>NaN</td>\n",
       "      <td>151007.0</td>\n",
       "      <td>en</td>\n",
       "      <td>The Silent Force</td>\n",
       "      <td>...</td>\n",
       "      <td>0.0</td>\n",
       "      <td>90.0</td>\n",
       "      <td>[{'english_name': 'English', 'iso_639_1': 'en'...</td>\n",
       "      <td>Released</td>\n",
       "      <td>They left him for dead... They should have fin...</td>\n",
       "      <td>The Silent Force</td>\n",
       "      <td>0.0</td>\n",
       "      <td>5.000</td>\n",
       "      <td>3.0</td>\n",
       "      <td>NaN</td>\n",
       "    </tr>\n",
       "    <tr>\n",
       "      <th>3</th>\n",
       "      <td>tt0116916</td>\n",
       "      <td>0.0</td>\n",
       "      <td>/rFpHBidSlhjflmnLu7BZilyKeQR.jpg</td>\n",
       "      <td>NaN</td>\n",
       "      <td>0.0</td>\n",
       "      <td>[{'id': 28, 'name': 'Action'}, {'id': 12, 'nam...</td>\n",
       "      <td>NaN</td>\n",
       "      <td>73549.0</td>\n",
       "      <td>en</td>\n",
       "      <td>The Dark Mist</td>\n",
       "      <td>...</td>\n",
       "      <td>0.0</td>\n",
       "      <td>101.0</td>\n",
       "      <td>[{'english_name': 'English', 'iso_639_1': 'en'...</td>\n",
       "      <td>Released</td>\n",
       "      <td>NaN</td>\n",
       "      <td>The Dark Mist</td>\n",
       "      <td>0.0</td>\n",
       "      <td>3.500</td>\n",
       "      <td>2.0</td>\n",
       "      <td>PG</td>\n",
       "    </tr>\n",
       "    <tr>\n",
       "      <th>4</th>\n",
       "      <td>tt0118589</td>\n",
       "      <td>0.0</td>\n",
       "      <td>/9NZAirJahVilTiDNCHLFcdkwkiy.jpg</td>\n",
       "      <td>NaN</td>\n",
       "      <td>22000000.0</td>\n",
       "      <td>[{'id': 18, 'name': 'Drama'}, {'id': 10402, 'n...</td>\n",
       "      <td>NaN</td>\n",
       "      <td>10696.0</td>\n",
       "      <td>en</td>\n",
       "      <td>Glitter</td>\n",
       "      <td>...</td>\n",
       "      <td>5271666.0</td>\n",
       "      <td>104.0</td>\n",
       "      <td>[{'english_name': 'English', 'iso_639_1': 'en'...</td>\n",
       "      <td>Released</td>\n",
       "      <td>In music she found her dream, her love, herself.</td>\n",
       "      <td>Glitter</td>\n",
       "      <td>0.0</td>\n",
       "      <td>4.405</td>\n",
       "      <td>132.0</td>\n",
       "      <td>PG-13</td>\n",
       "    </tr>\n",
       "    <tr>\n",
       "      <th>...</th>\n",
       "      <td>...</td>\n",
       "      <td>...</td>\n",
       "      <td>...</td>\n",
       "      <td>...</td>\n",
       "      <td>...</td>\n",
       "      <td>...</td>\n",
       "      <td>...</td>\n",
       "      <td>...</td>\n",
       "      <td>...</td>\n",
       "      <td>...</td>\n",
       "      <td>...</td>\n",
       "      <td>...</td>\n",
       "      <td>...</td>\n",
       "      <td>...</td>\n",
       "      <td>...</td>\n",
       "      <td>...</td>\n",
       "      <td>...</td>\n",
       "      <td>...</td>\n",
       "      <td>...</td>\n",
       "      <td>...</td>\n",
       "      <td>...</td>\n",
       "    </tr>\n",
       "    <tr>\n",
       "      <th>1290</th>\n",
       "      <td>tt6449044</td>\n",
       "      <td>0.0</td>\n",
       "      <td>/a9pkw8stijESGx1flSGPqcXLkHu.jpg</td>\n",
       "      <td>{'id': 957260, 'name': 'The Conman Collection'...</td>\n",
       "      <td>0.0</td>\n",
       "      <td>[{'id': 35, 'name': 'Comedy'}]</td>\n",
       "      <td>NaN</td>\n",
       "      <td>314105.0</td>\n",
       "      <td>cn</td>\n",
       "      <td>賭俠2002</td>\n",
       "      <td>...</td>\n",
       "      <td>0.0</td>\n",
       "      <td>97.0</td>\n",
       "      <td>[{'english_name': 'Cantonese', 'iso_639_1': 'c...</td>\n",
       "      <td>Released</td>\n",
       "      <td>NaN</td>\n",
       "      <td>The Conman 2002</td>\n",
       "      <td>0.0</td>\n",
       "      <td>4.300</td>\n",
       "      <td>3.0</td>\n",
       "      <td>NaN</td>\n",
       "    </tr>\n",
       "    <tr>\n",
       "      <th>1291</th>\n",
       "      <td>tt6694126</td>\n",
       "      <td>0.0</td>\n",
       "      <td>/sXjVpTZyDvwzPVZve3AmyCUBeHk.jpg</td>\n",
       "      <td>NaN</td>\n",
       "      <td>0.0</td>\n",
       "      <td>[{'id': 35, 'name': 'Comedy'}, {'id': 18, 'nam...</td>\n",
       "      <td>NaN</td>\n",
       "      <td>819174.0</td>\n",
       "      <td>fa</td>\n",
       "      <td>عروس خوش‌قدم</td>\n",
       "      <td>...</td>\n",
       "      <td>0.0</td>\n",
       "      <td>101.0</td>\n",
       "      <td>[{'english_name': 'Persian', 'iso_639_1': 'fa'...</td>\n",
       "      <td>Released</td>\n",
       "      <td>NaN</td>\n",
       "      <td>The Lucky Bride</td>\n",
       "      <td>0.0</td>\n",
       "      <td>8.000</td>\n",
       "      <td>1.0</td>\n",
       "      <td>NaN</td>\n",
       "    </tr>\n",
       "    <tr>\n",
       "      <th>1292</th>\n",
       "      <td>tt8302928</td>\n",
       "      <td>0.0</td>\n",
       "      <td>NaN</td>\n",
       "      <td>NaN</td>\n",
       "      <td>0.0</td>\n",
       "      <td>[{'id': 16, 'name': 'Animation'}, {'id': 12, '...</td>\n",
       "      <td>NaN</td>\n",
       "      <td>866533.0</td>\n",
       "      <td>el</td>\n",
       "      <td>Movie Toons: Treasure Island</td>\n",
       "      <td>...</td>\n",
       "      <td>0.0</td>\n",
       "      <td>0.0</td>\n",
       "      <td>[]</td>\n",
       "      <td>Released</td>\n",
       "      <td>NaN</td>\n",
       "      <td>Movie Toons: Treasure Island</td>\n",
       "      <td>0.0</td>\n",
       "      <td>0.000</td>\n",
       "      <td>0.0</td>\n",
       "      <td>NaN</td>\n",
       "    </tr>\n",
       "    <tr>\n",
       "      <th>1293</th>\n",
       "      <td>tt8474326</td>\n",
       "      <td>0.0</td>\n",
       "      <td>NaN</td>\n",
       "      <td>NaN</td>\n",
       "      <td>0.0</td>\n",
       "      <td>[]</td>\n",
       "      <td>NaN</td>\n",
       "      <td>292027.0</td>\n",
       "      <td>en</td>\n",
       "      <td>Skin Eating Jungle Vampires</td>\n",
       "      <td>...</td>\n",
       "      <td>0.0</td>\n",
       "      <td>0.0</td>\n",
       "      <td>[]</td>\n",
       "      <td>Released</td>\n",
       "      <td>NaN</td>\n",
       "      <td>Skin Eating Jungle Vampires</td>\n",
       "      <td>0.0</td>\n",
       "      <td>0.000</td>\n",
       "      <td>0.0</td>\n",
       "      <td>NaN</td>\n",
       "    </tr>\n",
       "    <tr>\n",
       "      <th>1294</th>\n",
       "      <td>tt8825252</td>\n",
       "      <td>0.0</td>\n",
       "      <td>NaN</td>\n",
       "      <td>NaN</td>\n",
       "      <td>0.0</td>\n",
       "      <td>[{'id': 14, 'name': 'Fantasy'}]</td>\n",
       "      <td>NaN</td>\n",
       "      <td>989195.0</td>\n",
       "      <td>en</td>\n",
       "      <td>Circle of Fire: The Dark Lord Kylnor</td>\n",
       "      <td>...</td>\n",
       "      <td>0.0</td>\n",
       "      <td>45.0</td>\n",
       "      <td>[]</td>\n",
       "      <td>Released</td>\n",
       "      <td>NaN</td>\n",
       "      <td>Circle of Fire: The Dark Lord Kylnor</td>\n",
       "      <td>0.0</td>\n",
       "      <td>0.000</td>\n",
       "      <td>0.0</td>\n",
       "      <td>NaN</td>\n",
       "    </tr>\n",
       "  </tbody>\n",
       "</table>\n",
       "<p>2653 rows × 26 columns</p>\n",
       "</div>"
      ],
      "text/plain": [
       "        imdb_id  adult                     backdrop_path  \\\n",
       "0             0    NaN                               NaN   \n",
       "1     tt0035423    0.0  /tJLV3BAlHOgscVOrA99Wnb2gAef.jpg   \n",
       "2     tt0114447    0.0                               NaN   \n",
       "3     tt0116916    0.0  /rFpHBidSlhjflmnLu7BZilyKeQR.jpg   \n",
       "4     tt0118589    0.0  /9NZAirJahVilTiDNCHLFcdkwkiy.jpg   \n",
       "...         ...    ...                               ...   \n",
       "1290  tt6449044    0.0  /a9pkw8stijESGx1flSGPqcXLkHu.jpg   \n",
       "1291  tt6694126    0.0  /sXjVpTZyDvwzPVZve3AmyCUBeHk.jpg   \n",
       "1292  tt8302928    0.0                               NaN   \n",
       "1293  tt8474326    0.0                               NaN   \n",
       "1294  tt8825252    0.0                               NaN   \n",
       "\n",
       "                                  belongs_to_collection      budget  \\\n",
       "0                                                   NaN         NaN   \n",
       "1                                                   NaN  48000000.0   \n",
       "2                                                   NaN         0.0   \n",
       "3                                                   NaN         0.0   \n",
       "4                                                   NaN  22000000.0   \n",
       "...                                                 ...         ...   \n",
       "1290  {'id': 957260, 'name': 'The Conman Collection'...         0.0   \n",
       "1291                                                NaN         0.0   \n",
       "1292                                                NaN         0.0   \n",
       "1293                                                NaN         0.0   \n",
       "1294                                                NaN         0.0   \n",
       "\n",
       "                                                 genres homepage        id  \\\n",
       "0                                                   NaN      NaN       NaN   \n",
       "1     [{'id': 10749, 'name': 'Romance'}, {'id': 14, ...      NaN   11232.0   \n",
       "2     [{'id': 53, 'name': 'Thriller'}, {'id': 28, 'n...      NaN  151007.0   \n",
       "3     [{'id': 28, 'name': 'Action'}, {'id': 12, 'nam...      NaN   73549.0   \n",
       "4     [{'id': 18, 'name': 'Drama'}, {'id': 10402, 'n...      NaN   10696.0   \n",
       "...                                                 ...      ...       ...   \n",
       "1290                     [{'id': 35, 'name': 'Comedy'}]      NaN  314105.0   \n",
       "1291  [{'id': 35, 'name': 'Comedy'}, {'id': 18, 'nam...      NaN  819174.0   \n",
       "1292  [{'id': 16, 'name': 'Animation'}, {'id': 12, '...      NaN  866533.0   \n",
       "1293                                                 []      NaN  292027.0   \n",
       "1294                    [{'id': 14, 'name': 'Fantasy'}]      NaN  989195.0   \n",
       "\n",
       "     original_language                        original_title  ...     revenue  \\\n",
       "0                  NaN                                   NaN  ...         NaN   \n",
       "1                   en                        Kate & Leopold  ...  76019048.0   \n",
       "2                   en                      The Silent Force  ...         0.0   \n",
       "3                   en                         The Dark Mist  ...         0.0   \n",
       "4                   en                               Glitter  ...   5271666.0   \n",
       "...                ...                                   ...  ...         ...   \n",
       "1290                cn                                賭俠2002  ...         0.0   \n",
       "1291                fa                          عروس خوش‌قدم  ...         0.0   \n",
       "1292                el          Movie Toons: Treasure Island  ...         0.0   \n",
       "1293                en           Skin Eating Jungle Vampires  ...         0.0   \n",
       "1294                en  Circle of Fire: The Dark Lord Kylnor  ...         0.0   \n",
       "\n",
       "      runtime                                   spoken_languages    status  \\\n",
       "0         NaN                                                NaN       NaN   \n",
       "1       118.0  [{'english_name': 'French', 'iso_639_1': 'fr',...  Released   \n",
       "2        90.0  [{'english_name': 'English', 'iso_639_1': 'en'...  Released   \n",
       "3       101.0  [{'english_name': 'English', 'iso_639_1': 'en'...  Released   \n",
       "4       104.0  [{'english_name': 'English', 'iso_639_1': 'en'...  Released   \n",
       "...       ...                                                ...       ...   \n",
       "1290     97.0  [{'english_name': 'Cantonese', 'iso_639_1': 'c...  Released   \n",
       "1291    101.0  [{'english_name': 'Persian', 'iso_639_1': 'fa'...  Released   \n",
       "1292      0.0                                                 []  Released   \n",
       "1293      0.0                                                 []  Released   \n",
       "1294     45.0                                                 []  Released   \n",
       "\n",
       "                                                tagline  \\\n",
       "0                                                   NaN   \n",
       "1     If they lived in the same century, they'd be p...   \n",
       "2     They left him for dead... They should have fin...   \n",
       "3                                                   NaN   \n",
       "4      In music she found her dream, her love, herself.   \n",
       "...                                                 ...   \n",
       "1290                                                NaN   \n",
       "1291                                                NaN   \n",
       "1292                                                NaN   \n",
       "1293                                                NaN   \n",
       "1294                                                NaN   \n",
       "\n",
       "                                     title  video  vote_average vote_count  \\\n",
       "0                                      NaN    NaN           NaN        NaN   \n",
       "1                           Kate & Leopold    0.0         6.319     1238.0   \n",
       "2                         The Silent Force    0.0         5.000        3.0   \n",
       "3                            The Dark Mist    0.0         3.500        2.0   \n",
       "4                                  Glitter    0.0         4.405      132.0   \n",
       "...                                    ...    ...           ...        ...   \n",
       "1290                       The Conman 2002    0.0         4.300        3.0   \n",
       "1291                       The Lucky Bride    0.0         8.000        1.0   \n",
       "1292          Movie Toons: Treasure Island    0.0         0.000        0.0   \n",
       "1293           Skin Eating Jungle Vampires    0.0         0.000        0.0   \n",
       "1294  Circle of Fire: The Dark Lord Kylnor    0.0         0.000        0.0   \n",
       "\n",
       "     certification  \n",
       "0              NaN  \n",
       "1            PG-13  \n",
       "2              NaN  \n",
       "3               PG  \n",
       "4            PG-13  \n",
       "...            ...  \n",
       "1290           NaN  \n",
       "1291           NaN  \n",
       "1292           NaN  \n",
       "1293           NaN  \n",
       "1294           NaN  \n",
       "\n",
       "[2653 rows x 26 columns]"
      ]
     },
     "execution_count": 11,
     "metadata": {},
     "output_type": "execute_result"
    }
   ],
   "source": [
    "# Use read_csv in a list comprehension and then combine with concat to load all files\n",
    "df = pd.concat([pd.read_csv(f) for f in tmdb_files])\n",
    "df"
   ]
  },
  {
   "cell_type": "code",
   "execution_count": 14,
   "id": "fecb8af6-051b-41d5-ae67-4fabb7636b3b",
   "metadata": {},
   "outputs": [],
   "source": [
    "# Drop empty row used to start file\n",
    "df = df.drop([0])"
   ]
  },
  {
   "cell_type": "code",
   "execution_count": 16,
   "id": "e6ed5a38-1d0e-4753-8dce-79a0abc17e13",
   "metadata": {},
   "outputs": [],
   "source": [
    "df.to_csv('DATA/tmdb_results_combined.csv.gz', index=False)"
   ]
  }
 ],
 "metadata": {
  "kernelspec": {
   "display_name": "Python 3 (ipykernel)",
   "language": "python",
   "name": "python3"
  },
  "language_info": {
   "codemirror_mode": {
    "name": "ipython",
    "version": 3
   },
   "file_extension": ".py",
   "mimetype": "text/x-python",
   "name": "python",
   "nbconvert_exporter": "python",
   "pygments_lexer": "ipython3",
   "version": "3.10.10"
  },
  "widgets": {
   "application/vnd.jupyter.widget-state+json": {
    "state": {
     "047895025bb54be299a3d9e46ebe31fa": {
      "model_module": "@jupyter-widgets/base",
      "model_module_version": "2.0.0",
      "model_name": "LayoutModel",
      "state": {}
     },
     "1232b1f3804d46b9be534214829ff563": {
      "model_module": "@jupyter-widgets/base",
      "model_module_version": "2.0.0",
      "model_name": "LayoutModel",
      "state": {}
     },
     "195debdc4ae146bb8f31bc4a76a336b5": {
      "model_module": "@jupyter-widgets/controls",
      "model_module_version": "2.0.0",
      "model_name": "HTMLModel",
      "state": {
       "layout": "IPY_MODEL_f9e9d0cd40544891a16be51a42b56e3a",
       "style": "IPY_MODEL_4a27aa60cb1b40e4a446906f47974c73",
       "value": "Movies from 2002: 100%"
      }
     },
     "1e712398fae647889f36b4f6a66f95ed": {
      "model_module": "@jupyter-widgets/controls",
      "model_module_version": "2.0.0",
      "model_name": "HBoxModel",
      "state": {
       "children": [
        "IPY_MODEL_195debdc4ae146bb8f31bc4a76a336b5",
        "IPY_MODEL_ad467a66b42a486a9c5a788e4a7d1c4c",
        "IPY_MODEL_ab58ee7e151740e383f4c066e0cb48cb"
       ],
       "layout": "IPY_MODEL_1232b1f3804d46b9be534214829ff563"
      }
     },
     "20153c62c6b940249535fc164e223bab": {
      "model_module": "@jupyter-widgets/controls",
      "model_module_version": "2.0.0",
      "model_name": "HTMLStyleModel",
      "state": {
       "description_width": "",
       "font_size": null,
       "text_color": null
      }
     },
     "258e4cd8175147e8ad8a73697d21cdcb": {
      "model_module": "@jupyter-widgets/controls",
      "model_module_version": "2.0.0",
      "model_name": "ProgressStyleModel",
      "state": {
       "description_width": ""
      }
     },
     "28edb49e4d6448b19dab60ba96d63f1d": {
      "model_module": "@jupyter-widgets/controls",
      "model_module_version": "2.0.0",
      "model_name": "HTMLModel",
      "state": {
       "layout": "IPY_MODEL_fe24528bee4441db9971cd49d3fa5bd6",
       "style": "IPY_MODEL_49e8fac8388d428587a5665fa27dcea0",
       "value": "Years completed: 100%"
      }
     },
     "30a4080257474719a226425677e4845d": {
      "model_module": "@jupyter-widgets/controls",
      "model_module_version": "2.0.0",
      "model_name": "HBoxModel",
      "state": {
       "children": [
        "IPY_MODEL_8c4361165df845f788f63bdd103a24c2",
        "IPY_MODEL_b51131c34d1f4c64a2527f536baedf57",
        "IPY_MODEL_bdeb9270fdf64b928a9493ad9c2fab93"
       ],
       "layout": "IPY_MODEL_9e3f7e2f7cb94fba82458fbc844ae749"
      }
     },
     "3281a2181e0447999072ae3716d320b5": {
      "model_module": "@jupyter-widgets/base",
      "model_module_version": "2.0.0",
      "model_name": "LayoutModel",
      "state": {}
     },
     "39c18817da884433ad3921501cf133be": {
      "model_module": "@jupyter-widgets/base",
      "model_module_version": "2.0.0",
      "model_name": "LayoutModel",
      "state": {}
     },
     "49e8fac8388d428587a5665fa27dcea0": {
      "model_module": "@jupyter-widgets/controls",
      "model_module_version": "2.0.0",
      "model_name": "HTMLStyleModel",
      "state": {
       "description_width": "",
       "font_size": null,
       "text_color": null
      }
     },
     "4a27aa60cb1b40e4a446906f47974c73": {
      "model_module": "@jupyter-widgets/controls",
      "model_module_version": "2.0.0",
      "model_name": "HTMLStyleModel",
      "state": {
       "description_width": "",
       "font_size": null,
       "text_color": null
      }
     },
     "67ac16ccde9f4b549ea8b6a14e130b7b": {
      "model_module": "@jupyter-widgets/base",
      "model_module_version": "2.0.0",
      "model_name": "LayoutModel",
      "state": {}
     },
     "7544d9b9089b4d9aa301adaae8f149d0": {
      "model_module": "@jupyter-widgets/controls",
      "model_module_version": "2.0.0",
      "model_name": "HBoxModel",
      "state": {
       "children": [
        "IPY_MODEL_28edb49e4d6448b19dab60ba96d63f1d",
        "IPY_MODEL_e6d5f7a6ed68463fb7b84ed82cdd0b58",
        "IPY_MODEL_7b3a62605f2249bda9936f7bf91eb20c"
       ],
       "layout": "IPY_MODEL_da1def7dc3fe49168c144139b5c88b67"
      }
     },
     "7b3a62605f2249bda9936f7bf91eb20c": {
      "model_module": "@jupyter-widgets/controls",
      "model_module_version": "2.0.0",
      "model_name": "HTMLModel",
      "state": {
       "layout": "IPY_MODEL_beb2d6341c724ad4b444bb95095c65c1",
       "style": "IPY_MODEL_edab4c3606904070ac210f2ceb3e6d12",
       "value": " 2/2 [00:53&lt;00:00, 27.34s/it]"
      }
     },
     "8c4361165df845f788f63bdd103a24c2": {
      "model_module": "@jupyter-widgets/controls",
      "model_module_version": "2.0.0",
      "model_name": "HTMLModel",
      "state": {
       "layout": "IPY_MODEL_a71657c9df994d41b00d74cb4c27f78c",
       "style": "IPY_MODEL_20153c62c6b940249535fc164e223bab",
       "value": "Movies from 2001: 100%"
      }
     },
     "9e3f7e2f7cb94fba82458fbc844ae749": {
      "model_module": "@jupyter-widgets/base",
      "model_module_version": "2.0.0",
      "model_name": "LayoutModel",
      "state": {}
     },
     "a71657c9df994d41b00d74cb4c27f78c": {
      "model_module": "@jupyter-widgets/base",
      "model_module_version": "2.0.0",
      "model_name": "LayoutModel",
      "state": {}
     },
     "ab58ee7e151740e383f4c066e0cb48cb": {
      "model_module": "@jupyter-widgets/controls",
      "model_module_version": "2.0.0",
      "model_name": "HTMLModel",
      "state": {
       "layout": "IPY_MODEL_3281a2181e0447999072ae3716d320b5",
       "style": "IPY_MODEL_ed8cfb1c3f68492bb3c0f1eed4e76ca0",
       "value": " 278/278 [00:29&lt;00:00,  8.74it/s]"
      }
     },
     "ad467a66b42a486a9c5a788e4a7d1c4c": {
      "model_module": "@jupyter-widgets/controls",
      "model_module_version": "2.0.0",
      "model_name": "FloatProgressModel",
      "state": {
       "bar_style": "success",
       "layout": "IPY_MODEL_047895025bb54be299a3d9e46ebe31fa",
       "max": 278,
       "style": "IPY_MODEL_258e4cd8175147e8ad8a73697d21cdcb",
       "value": 278
      }
     },
     "b51131c34d1f4c64a2527f536baedf57": {
      "model_module": "@jupyter-widgets/controls",
      "model_module_version": "2.0.0",
      "model_name": "FloatProgressModel",
      "state": {
       "bar_style": "success",
       "layout": "IPY_MODEL_ca9e3305d6d040af940c7c2d34519e3f",
       "max": 219,
       "style": "IPY_MODEL_df536a2c0acc49ddbb7f2412825e438c",
       "value": 219
      }
     },
     "bdeb9270fdf64b928a9493ad9c2fab93": {
      "model_module": "@jupyter-widgets/controls",
      "model_module_version": "2.0.0",
      "model_name": "HTMLModel",
      "state": {
       "layout": "IPY_MODEL_67ac16ccde9f4b549ea8b6a14e130b7b",
       "style": "IPY_MODEL_cfecbe380fbe41f19123f0af1cd0e87c",
       "value": " 219/219 [00:23&lt;00:00,  8.82it/s]"
      }
     },
     "beb2d6341c724ad4b444bb95095c65c1": {
      "model_module": "@jupyter-widgets/base",
      "model_module_version": "2.0.0",
      "model_name": "LayoutModel",
      "state": {}
     },
     "ca9e3305d6d040af940c7c2d34519e3f": {
      "model_module": "@jupyter-widgets/base",
      "model_module_version": "2.0.0",
      "model_name": "LayoutModel",
      "state": {}
     },
     "cfecbe380fbe41f19123f0af1cd0e87c": {
      "model_module": "@jupyter-widgets/controls",
      "model_module_version": "2.0.0",
      "model_name": "HTMLStyleModel",
      "state": {
       "description_width": "",
       "font_size": null,
       "text_color": null
      }
     },
     "d5bb60f58cff48d1a04dd339255fadde": {
      "model_module": "@jupyter-widgets/controls",
      "model_module_version": "2.0.0",
      "model_name": "ProgressStyleModel",
      "state": {
       "description_width": ""
      }
     },
     "da1def7dc3fe49168c144139b5c88b67": {
      "model_module": "@jupyter-widgets/base",
      "model_module_version": "2.0.0",
      "model_name": "LayoutModel",
      "state": {}
     },
     "df536a2c0acc49ddbb7f2412825e438c": {
      "model_module": "@jupyter-widgets/controls",
      "model_module_version": "2.0.0",
      "model_name": "ProgressStyleModel",
      "state": {
       "description_width": ""
      }
     },
     "e6d5f7a6ed68463fb7b84ed82cdd0b58": {
      "model_module": "@jupyter-widgets/controls",
      "model_module_version": "2.0.0",
      "model_name": "FloatProgressModel",
      "state": {
       "bar_style": "success",
       "layout": "IPY_MODEL_39c18817da884433ad3921501cf133be",
       "max": 2,
       "style": "IPY_MODEL_d5bb60f58cff48d1a04dd339255fadde",
       "value": 2
      }
     },
     "ed8cfb1c3f68492bb3c0f1eed4e76ca0": {
      "model_module": "@jupyter-widgets/controls",
      "model_module_version": "2.0.0",
      "model_name": "HTMLStyleModel",
      "state": {
       "description_width": "",
       "font_size": null,
       "text_color": null
      }
     },
     "edab4c3606904070ac210f2ceb3e6d12": {
      "model_module": "@jupyter-widgets/controls",
      "model_module_version": "2.0.0",
      "model_name": "HTMLStyleModel",
      "state": {
       "description_width": "",
       "font_size": null,
       "text_color": null
      }
     },
     "f9e9d0cd40544891a16be51a42b56e3a": {
      "model_module": "@jupyter-widgets/base",
      "model_module_version": "2.0.0",
      "model_name": "LayoutModel",
      "state": {}
     },
     "fe24528bee4441db9971cd49d3fa5bd6": {
      "model_module": "@jupyter-widgets/base",
      "model_module_version": "2.0.0",
      "model_name": "LayoutModel",
      "state": {}
     }
    },
    "version_major": 2,
    "version_minor": 0
   }
  }
 },
 "nbformat": 4,
 "nbformat_minor": 5
}
