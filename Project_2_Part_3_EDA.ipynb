{
 "cells": [
  {
   "cell_type": "markdown",
   "id": "7817da87-c66d-49aa-a9d7-375c5da347b1",
   "metadata": {},
   "source": [
    "# Part 3A - EDA\n",
    "\n",
    "**Student:** Matthew Malueg"
   ]
  },
  {
   "cell_type": "markdown",
   "id": "eaa2de3e-02e3-43b0-85c8-4241e5224f7c",
   "metadata": {
    "jp-MarkdownHeadingCollapsed": true
   },
   "source": [
    "## Imports and Loading"
   ]
  },
  {
   "cell_type": "code",
   "execution_count": 2,
   "id": "8e1508d9-f082-4381-929e-2c3381843f9e",
   "metadata": {},
   "outputs": [],
   "source": [
    "# import needed modules\n",
    "import matplotlib.pyplot as plt\n",
    "import seaborn as sns\n",
    "import pandas as pd\n",
    "import numpy as np\n",
    "pd.set_option('display.max_columns', 100)"
   ]
  },
  {
   "cell_type": "code",
   "execution_count": 3,
   "id": "8a377b7a-856b-4703-94f2-15bd01bc2eba",
   "metadata": {},
   "outputs": [
    {
     "data": {
      "text/html": [
       "<div>\n",
       "<style scoped>\n",
       "    .dataframe tbody tr th:only-of-type {\n",
       "        vertical-align: middle;\n",
       "    }\n",
       "\n",
       "    .dataframe tbody tr th {\n",
       "        vertical-align: top;\n",
       "    }\n",
       "\n",
       "    .dataframe thead th {\n",
       "        text-align: right;\n",
       "    }\n",
       "</style>\n",
       "<table border=\"1\" class=\"dataframe\">\n",
       "  <thead>\n",
       "    <tr style=\"text-align: right;\">\n",
       "      <th></th>\n",
       "      <th>imdb_id</th>\n",
       "      <th>adult</th>\n",
       "      <th>backdrop_path</th>\n",
       "      <th>belongs_to_collection</th>\n",
       "      <th>budget</th>\n",
       "      <th>genres</th>\n",
       "      <th>homepage</th>\n",
       "      <th>id</th>\n",
       "      <th>original_language</th>\n",
       "      <th>original_title</th>\n",
       "      <th>overview</th>\n",
       "      <th>popularity</th>\n",
       "      <th>poster_path</th>\n",
       "      <th>production_companies</th>\n",
       "      <th>production_countries</th>\n",
       "      <th>release_date</th>\n",
       "      <th>revenue</th>\n",
       "      <th>runtime</th>\n",
       "      <th>spoken_languages</th>\n",
       "      <th>status</th>\n",
       "      <th>tagline</th>\n",
       "      <th>title</th>\n",
       "      <th>video</th>\n",
       "      <th>vote_average</th>\n",
       "      <th>vote_count</th>\n",
       "      <th>certification</th>\n",
       "    </tr>\n",
       "  </thead>\n",
       "  <tbody>\n",
       "    <tr>\n",
       "      <th>0</th>\n",
       "      <td>0</td>\n",
       "      <td>NaN</td>\n",
       "      <td>NaN</td>\n",
       "      <td>NaN</td>\n",
       "      <td>NaN</td>\n",
       "      <td>NaN</td>\n",
       "      <td>NaN</td>\n",
       "      <td>NaN</td>\n",
       "      <td>NaN</td>\n",
       "      <td>NaN</td>\n",
       "      <td>NaN</td>\n",
       "      <td>NaN</td>\n",
       "      <td>NaN</td>\n",
       "      <td>NaN</td>\n",
       "      <td>NaN</td>\n",
       "      <td>NaN</td>\n",
       "      <td>NaN</td>\n",
       "      <td>NaN</td>\n",
       "      <td>NaN</td>\n",
       "      <td>NaN</td>\n",
       "      <td>NaN</td>\n",
       "      <td>NaN</td>\n",
       "      <td>NaN</td>\n",
       "      <td>NaN</td>\n",
       "      <td>NaN</td>\n",
       "      <td>NaN</td>\n",
       "    </tr>\n",
       "    <tr>\n",
       "      <th>1</th>\n",
       "      <td>tt0035423</td>\n",
       "      <td>0.0</td>\n",
       "      <td>/tJLV3BAlHOgscVOrA99Wnb2gAef.jpg</td>\n",
       "      <td>NaN</td>\n",
       "      <td>48000000.0</td>\n",
       "      <td>[{'id': 10749, 'name': 'Romance'}, {'id': 14, ...</td>\n",
       "      <td>NaN</td>\n",
       "      <td>11232.0</td>\n",
       "      <td>en</td>\n",
       "      <td>Kate &amp; Leopold</td>\n",
       "      <td>When her scientist ex-boyfriend discovers a po...</td>\n",
       "      <td>13.382</td>\n",
       "      <td>/mUvikzKJJSg9khrVdxK8kg3TMHA.jpg</td>\n",
       "      <td>[{'id': 85, 'logo_path': None, 'name': 'Konrad...</td>\n",
       "      <td>[{'iso_3166_1': 'US', 'name': 'United States o...</td>\n",
       "      <td>2001-12-25</td>\n",
       "      <td>76019048.0</td>\n",
       "      <td>118.0</td>\n",
       "      <td>[{'english_name': 'French', 'iso_639_1': 'fr',...</td>\n",
       "      <td>Released</td>\n",
       "      <td>If they lived in the same century, they'd be p...</td>\n",
       "      <td>Kate &amp; Leopold</td>\n",
       "      <td>0.0</td>\n",
       "      <td>6.319</td>\n",
       "      <td>1238.0</td>\n",
       "      <td>PG-13</td>\n",
       "    </tr>\n",
       "    <tr>\n",
       "      <th>2</th>\n",
       "      <td>tt0114447</td>\n",
       "      <td>0.0</td>\n",
       "      <td>NaN</td>\n",
       "      <td>NaN</td>\n",
       "      <td>0.0</td>\n",
       "      <td>[{'id': 53, 'name': 'Thriller'}, {'id': 28, 'n...</td>\n",
       "      <td>NaN</td>\n",
       "      <td>151007.0</td>\n",
       "      <td>en</td>\n",
       "      <td>The Silent Force</td>\n",
       "      <td>An elite Federal force whose objective is to e...</td>\n",
       "      <td>2.612</td>\n",
       "      <td>/u0njmfXD3dXxQfeykBHBuFQOYqD.jpg</td>\n",
       "      <td>[]</td>\n",
       "      <td>[]</td>\n",
       "      <td>2001-01-01</td>\n",
       "      <td>0.0</td>\n",
       "      <td>90.0</td>\n",
       "      <td>[{'english_name': 'English', 'iso_639_1': 'en'...</td>\n",
       "      <td>Released</td>\n",
       "      <td>They left him for dead... They should have fin...</td>\n",
       "      <td>The Silent Force</td>\n",
       "      <td>0.0</td>\n",
       "      <td>5.000</td>\n",
       "      <td>3.0</td>\n",
       "      <td>NaN</td>\n",
       "    </tr>\n",
       "    <tr>\n",
       "      <th>3</th>\n",
       "      <td>tt0116916</td>\n",
       "      <td>0.0</td>\n",
       "      <td>/rFpHBidSlhjflmnLu7BZilyKeQR.jpg</td>\n",
       "      <td>NaN</td>\n",
       "      <td>0.0</td>\n",
       "      <td>[{'id': 28, 'name': 'Action'}, {'id': 12, 'nam...</td>\n",
       "      <td>NaN</td>\n",
       "      <td>73549.0</td>\n",
       "      <td>en</td>\n",
       "      <td>The Dark Mist</td>\n",
       "      <td>With the future of the world hanging in the ba...</td>\n",
       "      <td>2.744</td>\n",
       "      <td>/z18E0lukzOtAALmfINSTCUU0Als.jpg</td>\n",
       "      <td>[{'id': 71364, 'logo_path': None, 'name': 'Car...</td>\n",
       "      <td>[{'iso_3166_1': 'US', 'name': 'United States o...</td>\n",
       "      <td>1996-01-01</td>\n",
       "      <td>0.0</td>\n",
       "      <td>101.0</td>\n",
       "      <td>[{'english_name': 'English', 'iso_639_1': 'en'...</td>\n",
       "      <td>Released</td>\n",
       "      <td>NaN</td>\n",
       "      <td>The Dark Mist</td>\n",
       "      <td>0.0</td>\n",
       "      <td>3.500</td>\n",
       "      <td>2.0</td>\n",
       "      <td>PG</td>\n",
       "    </tr>\n",
       "    <tr>\n",
       "      <th>4</th>\n",
       "      <td>tt0118589</td>\n",
       "      <td>0.0</td>\n",
       "      <td>/9NZAirJahVilTiDNCHLFcdkwkiy.jpg</td>\n",
       "      <td>NaN</td>\n",
       "      <td>22000000.0</td>\n",
       "      <td>[{'id': 18, 'name': 'Drama'}, {'id': 10402, 'n...</td>\n",
       "      <td>NaN</td>\n",
       "      <td>10696.0</td>\n",
       "      <td>en</td>\n",
       "      <td>Glitter</td>\n",
       "      <td>A young woman is catapulted into pop stardom, ...</td>\n",
       "      <td>7.460</td>\n",
       "      <td>/b8gKsXB6d60SC2HKUcAAzTacn0S.jpg</td>\n",
       "      <td>[{'id': 89627, 'logo_path': None, 'name': 'Gli...</td>\n",
       "      <td>[{'iso_3166_1': 'US', 'name': 'United States o...</td>\n",
       "      <td>2001-09-21</td>\n",
       "      <td>5271666.0</td>\n",
       "      <td>104.0</td>\n",
       "      <td>[{'english_name': 'English', 'iso_639_1': 'en'...</td>\n",
       "      <td>Released</td>\n",
       "      <td>In music she found her dream, her love, herself.</td>\n",
       "      <td>Glitter</td>\n",
       "      <td>0.0</td>\n",
       "      <td>4.405</td>\n",
       "      <td>132.0</td>\n",
       "      <td>PG-13</td>\n",
       "    </tr>\n",
       "  </tbody>\n",
       "</table>\n",
       "</div>"
      ],
      "text/plain": [
       "     imdb_id  adult                     backdrop_path belongs_to_collection  \\\n",
       "0          0    NaN                               NaN                   NaN   \n",
       "1  tt0035423    0.0  /tJLV3BAlHOgscVOrA99Wnb2gAef.jpg                   NaN   \n",
       "2  tt0114447    0.0                               NaN                   NaN   \n",
       "3  tt0116916    0.0  /rFpHBidSlhjflmnLu7BZilyKeQR.jpg                   NaN   \n",
       "4  tt0118589    0.0  /9NZAirJahVilTiDNCHLFcdkwkiy.jpg                   NaN   \n",
       "\n",
       "       budget                                             genres homepage  \\\n",
       "0         NaN                                                NaN      NaN   \n",
       "1  48000000.0  [{'id': 10749, 'name': 'Romance'}, {'id': 14, ...      NaN   \n",
       "2         0.0  [{'id': 53, 'name': 'Thriller'}, {'id': 28, 'n...      NaN   \n",
       "3         0.0  [{'id': 28, 'name': 'Action'}, {'id': 12, 'nam...      NaN   \n",
       "4  22000000.0  [{'id': 18, 'name': 'Drama'}, {'id': 10402, 'n...      NaN   \n",
       "\n",
       "         id original_language    original_title  \\\n",
       "0       NaN               NaN               NaN   \n",
       "1   11232.0                en    Kate & Leopold   \n",
       "2  151007.0                en  The Silent Force   \n",
       "3   73549.0                en     The Dark Mist   \n",
       "4   10696.0                en           Glitter   \n",
       "\n",
       "                                            overview  popularity  \\\n",
       "0                                                NaN         NaN   \n",
       "1  When her scientist ex-boyfriend discovers a po...      13.382   \n",
       "2  An elite Federal force whose objective is to e...       2.612   \n",
       "3  With the future of the world hanging in the ba...       2.744   \n",
       "4  A young woman is catapulted into pop stardom, ...       7.460   \n",
       "\n",
       "                        poster_path  \\\n",
       "0                               NaN   \n",
       "1  /mUvikzKJJSg9khrVdxK8kg3TMHA.jpg   \n",
       "2  /u0njmfXD3dXxQfeykBHBuFQOYqD.jpg   \n",
       "3  /z18E0lukzOtAALmfINSTCUU0Als.jpg   \n",
       "4  /b8gKsXB6d60SC2HKUcAAzTacn0S.jpg   \n",
       "\n",
       "                                production_companies  \\\n",
       "0                                                NaN   \n",
       "1  [{'id': 85, 'logo_path': None, 'name': 'Konrad...   \n",
       "2                                                 []   \n",
       "3  [{'id': 71364, 'logo_path': None, 'name': 'Car...   \n",
       "4  [{'id': 89627, 'logo_path': None, 'name': 'Gli...   \n",
       "\n",
       "                                production_countries release_date     revenue  \\\n",
       "0                                                NaN          NaN         NaN   \n",
       "1  [{'iso_3166_1': 'US', 'name': 'United States o...   2001-12-25  76019048.0   \n",
       "2                                                 []   2001-01-01         0.0   \n",
       "3  [{'iso_3166_1': 'US', 'name': 'United States o...   1996-01-01         0.0   \n",
       "4  [{'iso_3166_1': 'US', 'name': 'United States o...   2001-09-21   5271666.0   \n",
       "\n",
       "   runtime                                   spoken_languages    status  \\\n",
       "0      NaN                                                NaN       NaN   \n",
       "1    118.0  [{'english_name': 'French', 'iso_639_1': 'fr',...  Released   \n",
       "2     90.0  [{'english_name': 'English', 'iso_639_1': 'en'...  Released   \n",
       "3    101.0  [{'english_name': 'English', 'iso_639_1': 'en'...  Released   \n",
       "4    104.0  [{'english_name': 'English', 'iso_639_1': 'en'...  Released   \n",
       "\n",
       "                                             tagline             title  video  \\\n",
       "0                                                NaN               NaN    NaN   \n",
       "1  If they lived in the same century, they'd be p...    Kate & Leopold    0.0   \n",
       "2  They left him for dead... They should have fin...  The Silent Force    0.0   \n",
       "3                                                NaN     The Dark Mist    0.0   \n",
       "4   In music she found her dream, her love, herself.           Glitter    0.0   \n",
       "\n",
       "   vote_average  vote_count certification  \n",
       "0           NaN         NaN           NaN  \n",
       "1         6.319      1238.0         PG-13  \n",
       "2         5.000         3.0           NaN  \n",
       "3         3.500         2.0            PG  \n",
       "4         4.405       132.0         PG-13  "
      ]
     },
     "execution_count": 3,
     "metadata": {},
     "output_type": "execute_result"
    }
   ],
   "source": [
    "# loading data\n",
    "fpath = \"tmdb_results_combined.csv.gz\"\n",
    "df = pd.read_csv(fpath)\n",
    "df.head()"
   ]
  },
  {
   "cell_type": "markdown",
   "id": "52c1e360-7655-41d6-8d0e-819c4dc46455",
   "metadata": {},
   "source": [
    "## Objective questions"
   ]
  },
  {
   "cell_type": "markdown",
   "id": "6a0e6df6-2386-450e-a481-d2b8361b6217",
   "metadata": {},
   "source": [
    "**Q1: How many movies had at least some valid financial information (values > 0 for budget OR revenue)?**"
   ]
  },
  {
   "cell_type": "code",
   "execution_count": 8,
   "id": "e38883f1-8328-4991-9b20-bd5f4d93d3f9",
   "metadata": {},
   "outputs": [
    {
     "data": {
      "text/plain": [
       "(726, 26)"
      ]
     },
     "execution_count": 8,
     "metadata": {},
     "output_type": "execute_result"
    }
   ],
   "source": [
    "df=df.loc[(df['budget'] >0)|(df['revenue']>0)]\n",
    "df.shape"
   ]
  },
  {
   "cell_type": "markdown",
   "id": "af4364fe-b89e-40b4-9ca1-406d9c9df67b",
   "metadata": {},
   "source": [
    "- There are 726 movies with some type of financial information available."
   ]
  },
  {
   "cell_type": "markdown",
   "id": "d2e92db4-77bc-4bb7-82e9-ab369c11e0ac",
   "metadata": {},
   "source": [
    "**Q2: How many movies are there in each certification category?**"
   ]
  },
  {
   "cell_type": "code",
   "execution_count": 12,
   "id": "ee1bbccb-2a6e-4009-a892-0de7e5b19f9d",
   "metadata": {},
   "outputs": [
    {
     "data": {
      "text/plain": [
       "R        246\n",
       "PG-13    148\n",
       "PG        42\n",
       "NR        22\n",
       "G         15\n",
       "Name: certification, dtype: int64"
      ]
     },
     "execution_count": 12,
     "metadata": {},
     "output_type": "execute_result"
    }
   ],
   "source": [
    "df['certification'].value_counts()"
   ]
  },
  {
   "cell_type": "markdown",
   "id": "1d94668c-6a28-4116-8491-5fc5435587e7",
   "metadata": {},
   "source": [
    "- There are:\n",
    "    - 246 R-rated movies\n",
    "    - 148 PG-13 movies\n",
    "    - 42 PG movies\n",
    "    - 15 G movies"
   ]
  },
  {
   "cell_type": "markdown",
   "id": "bf8c0e31-1068-4415-9b4b-8faba3a4aa61",
   "metadata": {},
   "source": [
    "**Q3: What is the average revenue per certification category?**"
   ]
  },
  {
   "cell_type": "code",
   "execution_count": 51,
   "id": "7477c910-71af-49c3-b230-202f50d30821",
   "metadata": {},
   "outputs": [],
   "source": [
    "# Filter out films with zero budget AND zero revenue\n",
    "budget_filter = df.loc[(df['budget'] > 0)]\n",
    "df_filtered = budget_filter.loc[(budget_filter['revenue'] > 0)]"
   ]
  },
  {
   "cell_type": "code",
   "execution_count": 55,
   "id": "63893421-14c9-4154-9b79-bd1484e36273",
   "metadata": {},
   "outputs": [
    {
     "data": {
      "text/plain": [
       "<pandas.core.groupby.generic.DataFrameGroupBy object at 0x0000026486FD2860>"
      ]
     },
     "execution_count": 55,
     "metadata": {},
     "output_type": "execute_result"
    }
   ],
   "source": [
    "# Group the filtered dataframe by certification\n",
    "cert_df = df_filtered.groupby('certification')\n",
    "cert_df"
   ]
  },
  {
   "cell_type": "code",
   "execution_count": 58,
   "id": "17acf93d-dafc-4d00-900e-19783c466c1e",
   "metadata": {},
   "outputs": [
    {
     "name": "stdout",
     "output_type": "stream",
     "text": [
      "                    revenue        budget\n",
      "certification                            \n",
      "G              1.401132e+08  4.781818e+07\n",
      "NR             1.215925e+07  5.420000e+06\n",
      "PG             1.901400e+08  5.064404e+07\n",
      "PG-13          1.102883e+08  4.368342e+07\n",
      "R              4.620896e+07  2.738208e+07\n"
     ]
    }
   ],
   "source": [
    "# Get the average values for each certification group\n",
    "avg_rev = cert_df[['revenue', 'budget']].mean()\n",
    "print(avg_rev)"
   ]
  },
  {
   "cell_type": "markdown",
   "id": "45a37e47-1cb4-4f05-ab59-894a6f53fcb6",
   "metadata": {},
   "source": [
    "- The average revenue for each certification category is:\n",
    "    - R: \\$46,208,960\n",
    "    - PG13: \\$110,288,300\n",
    "    - PG: \\$190,140,000\n",
    "    - G: \\$140,113,200"
   ]
  },
  {
   "cell_type": "markdown",
   "id": "ad595e2a-362b-4075-af6c-9c5a4dacd1e3",
   "metadata": {},
   "source": [
    "**Q4: What is the average budget per certification category?**"
   ]
  },
  {
   "cell_type": "markdown",
   "id": "8a29a3a4-2dc1-418e-9f91-53f7add7eaef",
   "metadata": {},
   "source": [
    "- The average budget for each certification category is:\n",
    "    - R: \\$27,382,080\n",
    "    - PG13: \\$43,683,420\n",
    "    - PG: \\$50,644,040\n",
    "    - G: \\$47,818,180"
   ]
  }
 ],
 "metadata": {
  "kernelspec": {
   "display_name": "Python 3 (ipykernel)",
   "language": "python",
   "name": "python3"
  },
  "language_info": {
   "codemirror_mode": {
    "name": "ipython",
    "version": 3
   },
   "file_extension": ".py",
   "mimetype": "text/x-python",
   "name": "python",
   "nbconvert_exporter": "python",
   "pygments_lexer": "ipython3",
   "version": "3.10.10"
  },
  "widgets": {
   "application/vnd.jupyter.widget-state+json": {
    "state": {},
    "version_major": 2,
    "version_minor": 0
   }
  }
 },
 "nbformat": 4,
 "nbformat_minor": 5
}
