{
 "cells": [
  {
   "cell_type": "markdown",
   "id": "f1f72d2e-23e5-49bb-9eb3-b390c23b929a",
   "metadata": {},
   "source": [
    "# Project 2 Part 6 - Review Classification"
   ]
  },
  {
   "cell_type": "markdown",
   "id": "773cc943-f57d-4f5a-a192-2513d73dc529",
   "metadata": {
    "jp-MarkdownHeadingCollapsed": true
   },
   "source": [
    "### Imports, Preparation"
   ]
  },
  {
   "cell_type": "code",
   "execution_count": 28,
   "id": "1eab709d-35a9-4cd2-8750-1c2791cc3ad3",
   "metadata": {},
   "outputs": [],
   "source": [
    "# Imports\n",
    "import matplotlib.pyplot as plt\n",
    "import matplotlib as mpl\n",
    "import seaborn as sns\n",
    "import numpy as np\n",
    "import pandas as pd\n",
    "import spacy\n",
    "import nltk\n",
    "import joblib\n",
    "\n",
    "# Sklearn\n",
    "from sklearn.model_selection import train_test_split, GridSearchCV\n",
    "from sklearn.pipeline import Pipeline\n",
    "from sklearn.feature_extraction.text import CountVectorizer, TfidfVectorizer\n",
    "from sklearn.ensemble import RandomForestClassifier\n",
    "from sklearn.linear_model import LogisticRegression\n",
    "from sklearn.preprocessing import LabelEncoder\n",
    "\n",
    "# Tensorflow\n",
    "import tensorflow as tf\n",
    "from tensorflow.keras import layers\n",
    "from tensorflow.keras import optimizers\n",
    "\n",
    "# Random seed\n",
    "tf.keras.utils.set_random_seed(42)\n",
    "tf.random.set_seed(42)\n",
    "np.random.seed(42)\n",
    "\n",
    "# Configuration\n",
    "from sklearn import set_config\n",
    "set_config(transform_output='pandas')    "
   ]
  },
  {
   "cell_type": "code",
   "execution_count": 2,
   "id": "fdaddecc-e32d-4d44-ab3f-f259b4923365",
   "metadata": {},
   "outputs": [],
   "source": [
    "%load_ext autoreload\n",
    "%autoreload 2\n",
    "import custom_functions as fn"
   ]
  },
  {
   "cell_type": "code",
   "execution_count": 3,
   "id": "ae240095-bdd7-402b-a27c-1a5e79a6553a",
   "metadata": {},
   "outputs": [
    {
     "data": {
      "text/html": [
       "<div>\n",
       "<style scoped>\n",
       "    .dataframe tbody tr th:only-of-type {\n",
       "        vertical-align: middle;\n",
       "    }\n",
       "\n",
       "    .dataframe tbody tr th {\n",
       "        vertical-align: top;\n",
       "    }\n",
       "\n",
       "    .dataframe thead th {\n",
       "        text-align: right;\n",
       "    }\n",
       "</style>\n",
       "<table border=\"1\" class=\"dataframe\">\n",
       "  <thead>\n",
       "    <tr style=\"text-align: right;\">\n",
       "      <th></th>\n",
       "      <th>review_id</th>\n",
       "      <th>movie_id</th>\n",
       "      <th>imdb_id</th>\n",
       "      <th>original_title</th>\n",
       "      <th>review</th>\n",
       "      <th>rating</th>\n",
       "      <th>highlow_rating</th>\n",
       "      <th>tokenized</th>\n",
       "      <th>lemmatized</th>\n",
       "      <th>tokenized_joined</th>\n",
       "      <th>lemmatized_joined</th>\n",
       "    </tr>\n",
       "  </thead>\n",
       "  <tbody>\n",
       "    <tr>\n",
       "      <th>1</th>\n",
       "      <td>57086ff5c3a3681d29001512</td>\n",
       "      <td>7443</td>\n",
       "      <td>tt0120630</td>\n",
       "      <td>Chicken Run</td>\n",
       "      <td>A guilty pleasure for me personally, as I love...</td>\n",
       "      <td>9.0</td>\n",
       "      <td>high</td>\n",
       "      <td>[guilty, pleasure, personally, love, great, es...</td>\n",
       "      <td>[guilty, pleasure, personally, love, great, es...</td>\n",
       "      <td>guilty pleasure personally love great escape w...</td>\n",
       "      <td>guilty pleasure personally love great escape w...</td>\n",
       "    </tr>\n",
       "  </tbody>\n",
       "</table>\n",
       "</div>"
      ],
      "text/plain": [
       "                  review_id  movie_id    imdb_id original_title  \\\n",
       "1  57086ff5c3a3681d29001512      7443  tt0120630    Chicken Run   \n",
       "\n",
       "                                              review  rating highlow_rating  \\\n",
       "1  A guilty pleasure for me personally, as I love...     9.0           high   \n",
       "\n",
       "                                           tokenized  \\\n",
       "1  [guilty, pleasure, personally, love, great, es...   \n",
       "\n",
       "                                          lemmatized  \\\n",
       "1  [guilty, pleasure, personally, love, great, es...   \n",
       "\n",
       "                                    tokenized_joined  \\\n",
       "1  guilty pleasure personally love great escape w...   \n",
       "\n",
       "                                   lemmatized_joined  \n",
       "1  guilty pleasure personally love great escape w...  "
      ]
     },
     "execution_count": 3,
     "metadata": {},
     "output_type": "execute_result"
    }
   ],
   "source": [
    "df = joblib.load('data-NLP/reviews_processed.joblib')\n",
    "df.head(1)"
   ]
  },
  {
   "cell_type": "code",
   "execution_count": 4,
   "id": "c7be3ba0-6374-4b28-9c23-00c5276b2cb1",
   "metadata": {},
   "outputs": [
    {
     "data": {
      "text/plain": [
       "review_id            0\n",
       "movie_id             0\n",
       "imdb_id              0\n",
       "original_title       0\n",
       "review               0\n",
       "rating               0\n",
       "highlow_rating       0\n",
       "tokenized            0\n",
       "lemmatized           0\n",
       "tokenized_joined     0\n",
       "lemmatized_joined    0\n",
       "dtype: int64"
      ]
     },
     "execution_count": 4,
     "metadata": {},
     "output_type": "execute_result"
    }
   ],
   "source": [
    "# Drop any reviews that no not have a rating\n",
    "df.isna().sum()"
   ]
  },
  {
   "cell_type": "code",
   "execution_count": 5,
   "id": "6ad21cce-7cc1-429a-8bd5-db270e2a1e8a",
   "metadata": {},
   "outputs": [],
   "source": [
    "# Use original review column as X and classification target column as y\n",
    "X = df['review']\n",
    "y = df['highlow_rating']"
   ]
  },
  {
   "cell_type": "code",
   "execution_count": 6,
   "id": "c5abb730-e745-474a-b099-76964980be4f",
   "metadata": {},
   "outputs": [
    {
     "data": {
      "text/plain": [
       "low     0.510474\n",
       "high    0.489526\n",
       "Name: highlow_rating, dtype: float64"
      ]
     },
     "execution_count": 6,
     "metadata": {},
     "output_type": "execute_result"
    }
   ],
   "source": [
    "#Train Test Split\n",
    "X_train, X_test, y_train, y_test=train_test_split(X, y, random_state=42)\n",
    "y_train.value_counts(normalize=True)"
   ]
  },
  {
   "cell_type": "markdown",
   "id": "9c2f49b0-2829-4d1d-a668-430ed56657f6",
   "metadata": {
    "jp-MarkdownHeadingCollapsed": true
   },
   "source": [
    "### Part 1 - Machine Learning"
   ]
  },
  {
   "cell_type": "markdown",
   "id": "ed0e5062-a008-4b28-abf9-30827ddb289a",
   "metadata": {},
   "source": [
    "#### Build sklearn modeling pipeline with text vectorizer and classification model"
   ]
  },
  {
   "cell_type": "code",
   "execution_count": 7,
   "id": "cc55f41c-56c0-4029-91dc-c9c81f29a4a1",
   "metadata": {},
   "outputs": [],
   "source": [
    "## Build text vectorizer and classification model\n",
    "# Create a sklearn text vectorizer. Consider stopwords, punc, etc.\n",
    "tfidf_vectorizer = TfidfVectorizer(stop_words='english', lowercase=True)\n",
    "# Create classification model\n",
    "rf_clf = RandomForestClassifier()"
   ]
  },
  {
   "cell_type": "code",
   "execution_count": 8,
   "id": "981a7a94-b95d-4bcf-bd84-455c58c1853d",
   "metadata": {},
   "outputs": [
    {
     "data": {
      "text/html": [
       "<style>#sk-container-id-1 {color: black;background-color: white;}#sk-container-id-1 pre{padding: 0;}#sk-container-id-1 div.sk-toggleable {background-color: white;}#sk-container-id-1 label.sk-toggleable__label {cursor: pointer;display: block;width: 100%;margin-bottom: 0;padding: 0.3em;box-sizing: border-box;text-align: center;}#sk-container-id-1 label.sk-toggleable__label-arrow:before {content: \"▸\";float: left;margin-right: 0.25em;color: #696969;}#sk-container-id-1 label.sk-toggleable__label-arrow:hover:before {color: black;}#sk-container-id-1 div.sk-estimator:hover label.sk-toggleable__label-arrow:before {color: black;}#sk-container-id-1 div.sk-toggleable__content {max-height: 0;max-width: 0;overflow: hidden;text-align: left;background-color: #f0f8ff;}#sk-container-id-1 div.sk-toggleable__content pre {margin: 0.2em;color: black;border-radius: 0.25em;background-color: #f0f8ff;}#sk-container-id-1 input.sk-toggleable__control:checked~div.sk-toggleable__content {max-height: 200px;max-width: 100%;overflow: auto;}#sk-container-id-1 input.sk-toggleable__control:checked~label.sk-toggleable__label-arrow:before {content: \"▾\";}#sk-container-id-1 div.sk-estimator input.sk-toggleable__control:checked~label.sk-toggleable__label {background-color: #d4ebff;}#sk-container-id-1 div.sk-label input.sk-toggleable__control:checked~label.sk-toggleable__label {background-color: #d4ebff;}#sk-container-id-1 input.sk-hidden--visually {border: 0;clip: rect(1px 1px 1px 1px);clip: rect(1px, 1px, 1px, 1px);height: 1px;margin: -1px;overflow: hidden;padding: 0;position: absolute;width: 1px;}#sk-container-id-1 div.sk-estimator {font-family: monospace;background-color: #f0f8ff;border: 1px dotted black;border-radius: 0.25em;box-sizing: border-box;margin-bottom: 0.5em;}#sk-container-id-1 div.sk-estimator:hover {background-color: #d4ebff;}#sk-container-id-1 div.sk-parallel-item::after {content: \"\";width: 100%;border-bottom: 1px solid gray;flex-grow: 1;}#sk-container-id-1 div.sk-label:hover label.sk-toggleable__label {background-color: #d4ebff;}#sk-container-id-1 div.sk-serial::before {content: \"\";position: absolute;border-left: 1px solid gray;box-sizing: border-box;top: 0;bottom: 0;left: 50%;z-index: 0;}#sk-container-id-1 div.sk-serial {display: flex;flex-direction: column;align-items: center;background-color: white;padding-right: 0.2em;padding-left: 0.2em;position: relative;}#sk-container-id-1 div.sk-item {position: relative;z-index: 1;}#sk-container-id-1 div.sk-parallel {display: flex;align-items: stretch;justify-content: center;background-color: white;position: relative;}#sk-container-id-1 div.sk-item::before, #sk-container-id-1 div.sk-parallel-item::before {content: \"\";position: absolute;border-left: 1px solid gray;box-sizing: border-box;top: 0;bottom: 0;left: 50%;z-index: -1;}#sk-container-id-1 div.sk-parallel-item {display: flex;flex-direction: column;z-index: 1;position: relative;background-color: white;}#sk-container-id-1 div.sk-parallel-item:first-child::after {align-self: flex-end;width: 50%;}#sk-container-id-1 div.sk-parallel-item:last-child::after {align-self: flex-start;width: 50%;}#sk-container-id-1 div.sk-parallel-item:only-child::after {width: 0;}#sk-container-id-1 div.sk-dashed-wrapped {border: 1px dashed gray;margin: 0 0.4em 0.5em 0.4em;box-sizing: border-box;padding-bottom: 0.4em;background-color: white;}#sk-container-id-1 div.sk-label label {font-family: monospace;font-weight: bold;display: inline-block;line-height: 1.2em;}#sk-container-id-1 div.sk-label-container {text-align: center;}#sk-container-id-1 div.sk-container {/* jupyter's `normalize.less` sets `[hidden] { display: none; }` but bootstrap.min.css set `[hidden] { display: none !important; }` so we also need the `!important` here to be able to override the default hidden behavior on the sphinx rendered scikit-learn.org. See: https://github.com/scikit-learn/scikit-learn/issues/21755 */display: inline-block !important;position: relative;}#sk-container-id-1 div.sk-text-repr-fallback {display: none;}</style><div id=\"sk-container-id-1\" class=\"sk-top-container\"><div class=\"sk-text-repr-fallback\"><pre>Pipeline(steps=[(&#x27;vectorizer&#x27;, TfidfVectorizer(stop_words=&#x27;english&#x27;)),\n",
       "                (&#x27;classifier&#x27;, RandomForestClassifier())])</pre><b>In a Jupyter environment, please rerun this cell to show the HTML representation or trust the notebook. <br />On GitHub, the HTML representation is unable to render, please try loading this page with nbviewer.org.</b></div><div class=\"sk-container\" hidden><div class=\"sk-item sk-dashed-wrapped\"><div class=\"sk-label-container\"><div class=\"sk-label sk-toggleable\"><input class=\"sk-toggleable__control sk-hidden--visually\" id=\"sk-estimator-id-1\" type=\"checkbox\" ><label for=\"sk-estimator-id-1\" class=\"sk-toggleable__label sk-toggleable__label-arrow\">Pipeline</label><div class=\"sk-toggleable__content\"><pre>Pipeline(steps=[(&#x27;vectorizer&#x27;, TfidfVectorizer(stop_words=&#x27;english&#x27;)),\n",
       "                (&#x27;classifier&#x27;, RandomForestClassifier())])</pre></div></div></div><div class=\"sk-serial\"><div class=\"sk-item\"><div class=\"sk-estimator sk-toggleable\"><input class=\"sk-toggleable__control sk-hidden--visually\" id=\"sk-estimator-id-2\" type=\"checkbox\" ><label for=\"sk-estimator-id-2\" class=\"sk-toggleable__label sk-toggleable__label-arrow\">TfidfVectorizer</label><div class=\"sk-toggleable__content\"><pre>TfidfVectorizer(stop_words=&#x27;english&#x27;)</pre></div></div></div><div class=\"sk-item\"><div class=\"sk-estimator sk-toggleable\"><input class=\"sk-toggleable__control sk-hidden--visually\" id=\"sk-estimator-id-3\" type=\"checkbox\" ><label for=\"sk-estimator-id-3\" class=\"sk-toggleable__label sk-toggleable__label-arrow\">RandomForestClassifier</label><div class=\"sk-toggleable__content\"><pre>RandomForestClassifier()</pre></div></div></div></div></div></div></div>"
      ],
      "text/plain": [
       "Pipeline(steps=[('vectorizer', TfidfVectorizer(stop_words='english')),\n",
       "                ('classifier', RandomForestClassifier())])"
      ]
     },
     "execution_count": 8,
     "metadata": {},
     "output_type": "execute_result"
    }
   ],
   "source": [
    "# Create a sklearn modeling pipeline\n",
    "ml_pipe = Pipeline([('vectorizer', tfidf_vectorizer),\n",
    "                        ('classifier',rf_clf)])\n",
    "ml_pipe"
   ]
  },
  {
   "cell_type": "code",
   "execution_count": 9,
   "id": "56b60eec-23d2-4088-ba06-78c8412aeb8b",
   "metadata": {},
   "outputs": [
    {
     "data": {
      "text/html": [
       "<style>#sk-container-id-2 {color: black;background-color: white;}#sk-container-id-2 pre{padding: 0;}#sk-container-id-2 div.sk-toggleable {background-color: white;}#sk-container-id-2 label.sk-toggleable__label {cursor: pointer;display: block;width: 100%;margin-bottom: 0;padding: 0.3em;box-sizing: border-box;text-align: center;}#sk-container-id-2 label.sk-toggleable__label-arrow:before {content: \"▸\";float: left;margin-right: 0.25em;color: #696969;}#sk-container-id-2 label.sk-toggleable__label-arrow:hover:before {color: black;}#sk-container-id-2 div.sk-estimator:hover label.sk-toggleable__label-arrow:before {color: black;}#sk-container-id-2 div.sk-toggleable__content {max-height: 0;max-width: 0;overflow: hidden;text-align: left;background-color: #f0f8ff;}#sk-container-id-2 div.sk-toggleable__content pre {margin: 0.2em;color: black;border-radius: 0.25em;background-color: #f0f8ff;}#sk-container-id-2 input.sk-toggleable__control:checked~div.sk-toggleable__content {max-height: 200px;max-width: 100%;overflow: auto;}#sk-container-id-2 input.sk-toggleable__control:checked~label.sk-toggleable__label-arrow:before {content: \"▾\";}#sk-container-id-2 div.sk-estimator input.sk-toggleable__control:checked~label.sk-toggleable__label {background-color: #d4ebff;}#sk-container-id-2 div.sk-label input.sk-toggleable__control:checked~label.sk-toggleable__label {background-color: #d4ebff;}#sk-container-id-2 input.sk-hidden--visually {border: 0;clip: rect(1px 1px 1px 1px);clip: rect(1px, 1px, 1px, 1px);height: 1px;margin: -1px;overflow: hidden;padding: 0;position: absolute;width: 1px;}#sk-container-id-2 div.sk-estimator {font-family: monospace;background-color: #f0f8ff;border: 1px dotted black;border-radius: 0.25em;box-sizing: border-box;margin-bottom: 0.5em;}#sk-container-id-2 div.sk-estimator:hover {background-color: #d4ebff;}#sk-container-id-2 div.sk-parallel-item::after {content: \"\";width: 100%;border-bottom: 1px solid gray;flex-grow: 1;}#sk-container-id-2 div.sk-label:hover label.sk-toggleable__label {background-color: #d4ebff;}#sk-container-id-2 div.sk-serial::before {content: \"\";position: absolute;border-left: 1px solid gray;box-sizing: border-box;top: 0;bottom: 0;left: 50%;z-index: 0;}#sk-container-id-2 div.sk-serial {display: flex;flex-direction: column;align-items: center;background-color: white;padding-right: 0.2em;padding-left: 0.2em;position: relative;}#sk-container-id-2 div.sk-item {position: relative;z-index: 1;}#sk-container-id-2 div.sk-parallel {display: flex;align-items: stretch;justify-content: center;background-color: white;position: relative;}#sk-container-id-2 div.sk-item::before, #sk-container-id-2 div.sk-parallel-item::before {content: \"\";position: absolute;border-left: 1px solid gray;box-sizing: border-box;top: 0;bottom: 0;left: 50%;z-index: -1;}#sk-container-id-2 div.sk-parallel-item {display: flex;flex-direction: column;z-index: 1;position: relative;background-color: white;}#sk-container-id-2 div.sk-parallel-item:first-child::after {align-self: flex-end;width: 50%;}#sk-container-id-2 div.sk-parallel-item:last-child::after {align-self: flex-start;width: 50%;}#sk-container-id-2 div.sk-parallel-item:only-child::after {width: 0;}#sk-container-id-2 div.sk-dashed-wrapped {border: 1px dashed gray;margin: 0 0.4em 0.5em 0.4em;box-sizing: border-box;padding-bottom: 0.4em;background-color: white;}#sk-container-id-2 div.sk-label label {font-family: monospace;font-weight: bold;display: inline-block;line-height: 1.2em;}#sk-container-id-2 div.sk-label-container {text-align: center;}#sk-container-id-2 div.sk-container {/* jupyter's `normalize.less` sets `[hidden] { display: none; }` but bootstrap.min.css set `[hidden] { display: none !important; }` so we also need the `!important` here to be able to override the default hidden behavior on the sphinx rendered scikit-learn.org. See: https://github.com/scikit-learn/scikit-learn/issues/21755 */display: inline-block !important;position: relative;}#sk-container-id-2 div.sk-text-repr-fallback {display: none;}</style><div id=\"sk-container-id-2\" class=\"sk-top-container\"><div class=\"sk-text-repr-fallback\"><pre>Pipeline(steps=[(&#x27;vectorizer&#x27;, TfidfVectorizer(stop_words=&#x27;english&#x27;)),\n",
       "                (&#x27;classifier&#x27;, RandomForestClassifier())])</pre><b>In a Jupyter environment, please rerun this cell to show the HTML representation or trust the notebook. <br />On GitHub, the HTML representation is unable to render, please try loading this page with nbviewer.org.</b></div><div class=\"sk-container\" hidden><div class=\"sk-item sk-dashed-wrapped\"><div class=\"sk-label-container\"><div class=\"sk-label sk-toggleable\"><input class=\"sk-toggleable__control sk-hidden--visually\" id=\"sk-estimator-id-4\" type=\"checkbox\" ><label for=\"sk-estimator-id-4\" class=\"sk-toggleable__label sk-toggleable__label-arrow\">Pipeline</label><div class=\"sk-toggleable__content\"><pre>Pipeline(steps=[(&#x27;vectorizer&#x27;, TfidfVectorizer(stop_words=&#x27;english&#x27;)),\n",
       "                (&#x27;classifier&#x27;, RandomForestClassifier())])</pre></div></div></div><div class=\"sk-serial\"><div class=\"sk-item\"><div class=\"sk-estimator sk-toggleable\"><input class=\"sk-toggleable__control sk-hidden--visually\" id=\"sk-estimator-id-5\" type=\"checkbox\" ><label for=\"sk-estimator-id-5\" class=\"sk-toggleable__label sk-toggleable__label-arrow\">TfidfVectorizer</label><div class=\"sk-toggleable__content\"><pre>TfidfVectorizer(stop_words=&#x27;english&#x27;)</pre></div></div></div><div class=\"sk-item\"><div class=\"sk-estimator sk-toggleable\"><input class=\"sk-toggleable__control sk-hidden--visually\" id=\"sk-estimator-id-6\" type=\"checkbox\" ><label for=\"sk-estimator-id-6\" class=\"sk-toggleable__label sk-toggleable__label-arrow\">RandomForestClassifier</label><div class=\"sk-toggleable__content\"><pre>RandomForestClassifier()</pre></div></div></div></div></div></div></div>"
      ],
      "text/plain": [
       "Pipeline(steps=[('vectorizer', TfidfVectorizer(stop_words='english')),\n",
       "                ('classifier', RandomForestClassifier())])"
      ]
     },
     "execution_count": 9,
     "metadata": {},
     "output_type": "execute_result"
    }
   ],
   "source": [
    "# Fit and evaluate the model using the machine learning classification models from sklearn.\n",
    "ml_pipe.fit(X_train, y_train)"
   ]
  },
  {
   "cell_type": "code",
   "execution_count": 10,
   "id": "b00246e0-f87d-402b-9b8d-e1af3fb8d476",
   "metadata": {},
   "outputs": [
    {
     "name": "stdout",
     "output_type": "stream",
     "text": [
      "----------------------------------------------------------------------\n",
      " Classification Metrics: Training Data\n",
      "----------------------------------------------------------------------\n",
      "              precision    recall  f1-score   support\n",
      "\n",
      "        high       1.00      1.00      1.00       888\n",
      "         low       1.00      1.00      1.00       926\n",
      "\n",
      "    accuracy                           1.00      1814\n",
      "   macro avg       1.00      1.00      1.00      1814\n",
      "weighted avg       1.00      1.00      1.00      1814\n",
      "\n"
     ]
    },
    {
     "data": {
      "image/png": "[encoded data removed]",
      "text/plain": [
       "<Figure size 600x400 with 2 Axes>"
      ]
     },
     "metadata": {},
     "output_type": "display_data"
    },
    {
     "name": "stdout",
     "output_type": "stream",
     "text": [
      "\n",
      "----------------------------------------------------------------------\n",
      " Classification Metrics: Test Data\n",
      "----------------------------------------------------------------------\n",
      "              precision    recall  f1-score   support\n",
      "\n",
      "        high       0.83      0.87      0.85       307\n",
      "         low       0.86      0.81      0.83       298\n",
      "\n",
      "    accuracy                           0.84       605\n",
      "   macro avg       0.84      0.84      0.84       605\n",
      "weighted avg       0.84      0.84      0.84       605\n",
      "\n"
     ]
    },
    {
     "data": {
      "image/png": "[encoded data removed]",
      "text/plain": [
       "<Figure size 600x400 with 2 Axes>"
      ]
     },
     "metadata": {},
     "output_type": "display_data"
    }
   ],
   "source": [
    "fn.evaluate_classification(ml_pipe, X_train, y_train, X_test, y_test)"
   ]
  },
  {
   "cell_type": "markdown",
   "id": "0bf93b6a-3d7d-4706-b70e-547ad7532f92",
   "metadata": {},
   "source": [
    "- Our model started at 84 % accuracy, and was slightly better at predicting movies with a High rating."
   ]
  },
  {
   "cell_type": "markdown",
   "id": "3926ced7-4f81-4ede-bfac-003ba63dc00a",
   "metadata": {
    "jp-MarkdownHeadingCollapsed": true
   },
   "source": [
    "#### Gridsearch Text Vectorization"
   ]
  },
  {
   "cell_type": "markdown",
   "id": "76f3032d-325c-4e15-bf2f-d5588a03f391",
   "metadata": {},
   "source": [
    "Try different parameters for our text vectorization layer to try and improve model performance. Begin by finding possible parameters, and creating a grid of parameter options."
   ]
  },
  {
   "cell_type": "code",
   "execution_count": 11,
   "id": "d4c8561f-69f0-43dd-bf24-99bcc1903821",
   "metadata": {},
   "outputs": [
    {
     "data": {
      "text/plain": [
       "{'memory': None,\n",
       " 'steps': [('vectorizer', TfidfVectorizer()),\n",
       "  ('classifier', RandomForestClassifier())],\n",
       " 'verbose': False,\n",
       " 'vectorizer': TfidfVectorizer(),\n",
       " 'classifier': RandomForestClassifier(),\n",
       " 'vectorizer__analyzer': 'word',\n",
       " 'vectorizer__binary': False,\n",
       " 'vectorizer__decode_error': 'strict',\n",
       " 'vectorizer__dtype': numpy.float64,\n",
       " 'vectorizer__encoding': 'utf-8',\n",
       " 'vectorizer__input': 'content',\n",
       " 'vectorizer__lowercase': True,\n",
       " 'vectorizer__max_df': 1.0,\n",
       " 'vectorizer__max_features': None,\n",
       " 'vectorizer__min_df': 1,\n",
       " 'vectorizer__ngram_range': (1, 1),\n",
       " 'vectorizer__norm': 'l2',\n",
       " 'vectorizer__preprocessor': None,\n",
       " 'vectorizer__smooth_idf': True,\n",
       " 'vectorizer__stop_words': None,\n",
       " 'vectorizer__strip_accents': None,\n",
       " 'vectorizer__sublinear_tf': False,\n",
       " 'vectorizer__token_pattern': '(?u)\\\\b\\\\w\\\\w+\\\\b',\n",
       " 'vectorizer__tokenizer': None,\n",
       " 'vectorizer__use_idf': True,\n",
       " 'vectorizer__vocabulary': None,\n",
       " 'classifier__bootstrap': True,\n",
       " 'classifier__ccp_alpha': 0.0,\n",
       " 'classifier__class_weight': None,\n",
       " 'classifier__criterion': 'gini',\n",
       " 'classifier__max_depth': None,\n",
       " 'classifier__max_features': 'sqrt',\n",
       " 'classifier__max_leaf_nodes': None,\n",
       " 'classifier__max_samples': None,\n",
       " 'classifier__min_impurity_decrease': 0.0,\n",
       " 'classifier__min_samples_leaf': 1,\n",
       " 'classifier__min_samples_split': 2,\n",
       " 'classifier__min_weight_fraction_leaf': 0.0,\n",
       " 'classifier__n_estimators': 100,\n",
       " 'classifier__n_jobs': None,\n",
       " 'classifier__oob_score': False,\n",
       " 'classifier__random_state': None,\n",
       " 'classifier__verbose': 0,\n",
       " 'classifier__warm_start': False}"
      ]
     },
     "execution_count": 11,
     "metadata": {},
     "output_type": "execute_result"
    }
   ],
   "source": [
    "## Improve model by tuning preprocessing steps\n",
    "# Construct grid of params for text vectorization step\n",
    "# Check possible params\n",
    "gscv_pipe = Pipeline([('vectorizer', TfidfVectorizer()),\n",
    "                          ('classifier', RandomForestClassifier())])\n",
    "gscv_pipe.get_params()"
   ]
  },
  {
   "cell_type": "code",
   "execution_count": 12,
   "id": "22ab6185-5cd6-4ab7-a3e2-f511f7076290",
   "metadata": {},
   "outputs": [],
   "source": [
    "# Define params to try for both vectorizers\n",
    "param_grid_shared = {\n",
    "    \"vectorizer__max_df\": [0.7, 0.8, 0.9],\n",
    "    'vectorizer__min_df': [ 2, 3, 4 ], \n",
    "    \"vectorizer__max_features\": [None, 1000, 2000],\n",
    "}\n",
    "\n",
    "# Define params for the count vectorizer\n",
    "param_grid_count = {\n",
    "    'vectorizer':[CountVectorizer()],\n",
    "    **param_grid_shared,\n",
    "}\n",
    "\n",
    "# Define params for tfidf vectorizer \n",
    "param_grid_tfidf = {\n",
    "    'vectorizer': [TfidfVectorizer()],\n",
    "    \"vectorizer__norm\": [\"l1\", \"l2\"],\n",
    "    \"vectorizer__use_idf\": [True, False],\n",
    "    **param_grid_shared,\n",
    "}\n",
    "\n",
    "# Combine into list of params\n",
    "vect_params_combined = [param_grid_count, param_grid_tfidf]"
   ]
  },
  {
   "cell_type": "code",
   "execution_count": 13,
   "id": "14b9bbb2-3193-4fc3-b53b-c6844bcdcb3a",
   "metadata": {},
   "outputs": [
    {
     "name": "stdout",
     "output_type": "stream",
     "text": [
      "Fitting 3 folds for each of 135 candidates, totalling 405 fits\n"
     ]
    },
    {
     "data": {
      "text/html": [
       "<style>#sk-container-id-3 {color: black;background-color: white;}#sk-container-id-3 pre{padding: 0;}#sk-container-id-3 div.sk-toggleable {background-color: white;}#sk-container-id-3 label.sk-toggleable__label {cursor: pointer;display: block;width: 100%;margin-bottom: 0;padding: 0.3em;box-sizing: border-box;text-align: center;}#sk-container-id-3 label.sk-toggleable__label-arrow:before {content: \"▸\";float: left;margin-right: 0.25em;color: #696969;}#sk-container-id-3 label.sk-toggleable__label-arrow:hover:before {color: black;}#sk-container-id-3 div.sk-estimator:hover label.sk-toggleable__label-arrow:before {color: black;}#sk-container-id-3 div.sk-toggleable__content {max-height: 0;max-width: 0;overflow: hidden;text-align: left;background-color: #f0f8ff;}#sk-container-id-3 div.sk-toggleable__content pre {margin: 0.2em;color: black;border-radius: 0.25em;background-color: #f0f8ff;}#sk-container-id-3 input.sk-toggleable__control:checked~div.sk-toggleable__content {max-height: 200px;max-width: 100%;overflow: auto;}#sk-container-id-3 input.sk-toggleable__control:checked~label.sk-toggleable__label-arrow:before {content: \"▾\";}#sk-container-id-3 div.sk-estimator input.sk-toggleable__control:checked~label.sk-toggleable__label {background-color: #d4ebff;}#sk-container-id-3 div.sk-label input.sk-toggleable__control:checked~label.sk-toggleable__label {background-color: #d4ebff;}#sk-container-id-3 input.sk-hidden--visually {border: 0;clip: rect(1px 1px 1px 1px);clip: rect(1px, 1px, 1px, 1px);height: 1px;margin: -1px;overflow: hidden;padding: 0;position: absolute;width: 1px;}#sk-container-id-3 div.sk-estimator {font-family: monospace;background-color: #f0f8ff;border: 1px dotted black;border-radius: 0.25em;box-sizing: border-box;margin-bottom: 0.5em;}#sk-container-id-3 div.sk-estimator:hover {background-color: #d4ebff;}#sk-container-id-3 div.sk-parallel-item::after {content: \"\";width: 100%;border-bottom: 1px solid gray;flex-grow: 1;}#sk-container-id-3 div.sk-label:hover label.sk-toggleable__label {background-color: #d4ebff;}#sk-container-id-3 div.sk-serial::before {content: \"\";position: absolute;border-left: 1px solid gray;box-sizing: border-box;top: 0;bottom: 0;left: 50%;z-index: 0;}#sk-container-id-3 div.sk-serial {display: flex;flex-direction: column;align-items: center;background-color: white;padding-right: 0.2em;padding-left: 0.2em;position: relative;}#sk-container-id-3 div.sk-item {position: relative;z-index: 1;}#sk-container-id-3 div.sk-parallel {display: flex;align-items: stretch;justify-content: center;background-color: white;position: relative;}#sk-container-id-3 div.sk-item::before, #sk-container-id-3 div.sk-parallel-item::before {content: \"\";position: absolute;border-left: 1px solid gray;box-sizing: border-box;top: 0;bottom: 0;left: 50%;z-index: -1;}#sk-container-id-3 div.sk-parallel-item {display: flex;flex-direction: column;z-index: 1;position: relative;background-color: white;}#sk-container-id-3 div.sk-parallel-item:first-child::after {align-self: flex-end;width: 50%;}#sk-container-id-3 div.sk-parallel-item:last-child::after {align-self: flex-start;width: 50%;}#sk-container-id-3 div.sk-parallel-item:only-child::after {width: 0;}#sk-container-id-3 div.sk-dashed-wrapped {border: 1px dashed gray;margin: 0 0.4em 0.5em 0.4em;box-sizing: border-box;padding-bottom: 0.4em;background-color: white;}#sk-container-id-3 div.sk-label label {font-family: monospace;font-weight: bold;display: inline-block;line-height: 1.2em;}#sk-container-id-3 div.sk-label-container {text-align: center;}#sk-container-id-3 div.sk-container {/* jupyter's `normalize.less` sets `[hidden] { display: none; }` but bootstrap.min.css set `[hidden] { display: none !important; }` so we also need the `!important` here to be able to override the default hidden behavior on the sphinx rendered scikit-learn.org. See: https://github.com/scikit-learn/scikit-learn/issues/21755 */display: inline-block !important;position: relative;}#sk-container-id-3 div.sk-text-repr-fallback {display: none;}</style><div id=\"sk-container-id-3\" class=\"sk-top-container\"><div class=\"sk-text-repr-fallback\"><pre>GridSearchCV(cv=3,\n",
       "             estimator=Pipeline(steps=[(&#x27;vectorizer&#x27;, TfidfVectorizer()),\n",
       "                                       (&#x27;classifier&#x27;,\n",
       "                                        RandomForestClassifier())]),\n",
       "             n_jobs=-1,\n",
       "             param_grid=[{&#x27;vectorizer&#x27;: [CountVectorizer(max_df=0.7, min_df=3)],\n",
       "                          &#x27;vectorizer__max_df&#x27;: [0.7, 0.8, 0.9],\n",
       "                          &#x27;vectorizer__max_features&#x27;: [None, 1000, 2000],\n",
       "                          &#x27;vectorizer__min_df&#x27;: [2, 3, 4]},\n",
       "                         {&#x27;vectorizer&#x27;: [TfidfVectorizer()],\n",
       "                          &#x27;vectorizer__max_df&#x27;: [0.7, 0.8, 0.9],\n",
       "                          &#x27;vectorizer__max_features&#x27;: [None, 1000, 2000],\n",
       "                          &#x27;vectorizer__min_df&#x27;: [2, 3, 4],\n",
       "                          &#x27;vectorizer__norm&#x27;: [&#x27;l1&#x27;, &#x27;l2&#x27;],\n",
       "                          &#x27;vectorizer__use_idf&#x27;: [True, False]}],\n",
       "             verbose=1)</pre><b>In a Jupyter environment, please rerun this cell to show the HTML representation or trust the notebook. <br />On GitHub, the HTML representation is unable to render, please try loading this page with nbviewer.org.</b></div><div class=\"sk-container\" hidden><div class=\"sk-item sk-dashed-wrapped\"><div class=\"sk-label-container\"><div class=\"sk-label sk-toggleable\"><input class=\"sk-toggleable__control sk-hidden--visually\" id=\"sk-estimator-id-7\" type=\"checkbox\" ><label for=\"sk-estimator-id-7\" class=\"sk-toggleable__label sk-toggleable__label-arrow\">GridSearchCV</label><div class=\"sk-toggleable__content\"><pre>GridSearchCV(cv=3,\n",
       "             estimator=Pipeline(steps=[(&#x27;vectorizer&#x27;, TfidfVectorizer()),\n",
       "                                       (&#x27;classifier&#x27;,\n",
       "                                        RandomForestClassifier())]),\n",
       "             n_jobs=-1,\n",
       "             param_grid=[{&#x27;vectorizer&#x27;: [CountVectorizer(max_df=0.7, min_df=3)],\n",
       "                          &#x27;vectorizer__max_df&#x27;: [0.7, 0.8, 0.9],\n",
       "                          &#x27;vectorizer__max_features&#x27;: [None, 1000, 2000],\n",
       "                          &#x27;vectorizer__min_df&#x27;: [2, 3, 4]},\n",
       "                         {&#x27;vectorizer&#x27;: [TfidfVectorizer()],\n",
       "                          &#x27;vectorizer__max_df&#x27;: [0.7, 0.8, 0.9],\n",
       "                          &#x27;vectorizer__max_features&#x27;: [None, 1000, 2000],\n",
       "                          &#x27;vectorizer__min_df&#x27;: [2, 3, 4],\n",
       "                          &#x27;vectorizer__norm&#x27;: [&#x27;l1&#x27;, &#x27;l2&#x27;],\n",
       "                          &#x27;vectorizer__use_idf&#x27;: [True, False]}],\n",
       "             verbose=1)</pre></div></div></div><div class=\"sk-parallel\"><div class=\"sk-parallel-item\"><div class=\"sk-item\"><div class=\"sk-label-container\"><div class=\"sk-label sk-toggleable\"><input class=\"sk-toggleable__control sk-hidden--visually\" id=\"sk-estimator-id-8\" type=\"checkbox\" ><label for=\"sk-estimator-id-8\" class=\"sk-toggleable__label sk-toggleable__label-arrow\">estimator: Pipeline</label><div class=\"sk-toggleable__content\"><pre>Pipeline(steps=[(&#x27;vectorizer&#x27;, TfidfVectorizer()),\n",
       "                (&#x27;classifier&#x27;, RandomForestClassifier())])</pre></div></div></div><div class=\"sk-serial\"><div class=\"sk-item\"><div class=\"sk-serial\"><div class=\"sk-item\"><div class=\"sk-estimator sk-toggleable\"><input class=\"sk-toggleable__control sk-hidden--visually\" id=\"sk-estimator-id-9\" type=\"checkbox\" ><label for=\"sk-estimator-id-9\" class=\"sk-toggleable__label sk-toggleable__label-arrow\">TfidfVectorizer</label><div class=\"sk-toggleable__content\"><pre>TfidfVectorizer()</pre></div></div></div><div class=\"sk-item\"><div class=\"sk-estimator sk-toggleable\"><input class=\"sk-toggleable__control sk-hidden--visually\" id=\"sk-estimator-id-10\" type=\"checkbox\" ><label for=\"sk-estimator-id-10\" class=\"sk-toggleable__label sk-toggleable__label-arrow\">RandomForestClassifier</label><div class=\"sk-toggleable__content\"><pre>RandomForestClassifier()</pre></div></div></div></div></div></div></div></div></div></div></div></div>"
      ],
      "text/plain": [
       "GridSearchCV(cv=3,\n",
       "             estimator=Pipeline(steps=[('vectorizer', TfidfVectorizer()),\n",
       "                                       ('classifier',\n",
       "                                        RandomForestClassifier())]),\n",
       "             n_jobs=-1,\n",
       "             param_grid=[{'vectorizer': [CountVectorizer(max_df=0.7, min_df=3)],\n",
       "                          'vectorizer__max_df': [0.7, 0.8, 0.9],\n",
       "                          'vectorizer__max_features': [None, 1000, 2000],\n",
       "                          'vectorizer__min_df': [2, 3, 4]},\n",
       "                         {'vectorizer': [TfidfVectorizer()],\n",
       "                          'vectorizer__max_df': [0.7, 0.8, 0.9],\n",
       "                          'vectorizer__max_features': [None, 1000, 2000],\n",
       "                          'vectorizer__min_df': [2, 3, 4],\n",
       "                          'vectorizer__norm': ['l1', 'l2'],\n",
       "                          'vectorizer__use_idf': [True, False]}],\n",
       "             verbose=1)"
      ]
     },
     "execution_count": 13,
     "metadata": {},
     "output_type": "execute_result"
    }
   ],
   "source": [
    "# Fit and eval grid search results\n",
    "grid_search = GridSearchCV(gscv_pipe, vect_params_combined, cv=3, verbose=1, n_jobs=-1)\n",
    "grid_search.fit(X_train, y_train)"
   ]
  },
  {
   "cell_type": "code",
   "execution_count": 14,
   "id": "195c0dfd-0c31-4160-b0f2-345e8e8b1196",
   "metadata": {},
   "outputs": [
    {
     "data": {
      "text/plain": [
       "{'vectorizer': CountVectorizer(max_df=0.7, min_df=3),\n",
       " 'vectorizer__max_df': 0.7,\n",
       " 'vectorizer__max_features': None,\n",
       " 'vectorizer__min_df': 3}"
      ]
     },
     "execution_count": 14,
     "metadata": {},
     "output_type": "execute_result"
    }
   ],
   "source": [
    "# What are best params?\n",
    "grid_search.best_params_"
   ]
  },
  {
   "cell_type": "markdown",
   "id": "1e941b86-b5e2-41a1-8cd3-c15154cdf0ac",
   "metadata": {},
   "source": [
    "Now that we have our best parameters, use them to create a new model and evaluate the performance.\n",
    "\n",
    "**Evaluate best model**"
   ]
  },
  {
   "cell_type": "code",
   "execution_count": 15,
   "id": "0fb5842b-7f91-44d8-b9f5-e38421ab4c26",
   "metadata": {},
   "outputs": [
    {
     "name": "stdout",
     "output_type": "stream",
     "text": [
      "----------------------------------------------------------------------\n",
      " Classification Metrics: Training Data\n",
      "----------------------------------------------------------------------\n",
      "              precision    recall  f1-score   support\n",
      "\n",
      "        high       1.00      1.00      1.00       888\n",
      "         low       1.00      1.00      1.00       926\n",
      "\n",
      "    accuracy                           1.00      1814\n",
      "   macro avg       1.00      1.00      1.00      1814\n",
      "weighted avg       1.00      1.00      1.00      1814\n",
      "\n"
     ]
    },
    {
     "data": {
      "image/png": "[encoded data removed]",
      "text/plain": [
       "<Figure size 600x400 with 2 Axes>"
      ]
     },
     "metadata": {},
     "output_type": "display_data"
    },
    {
     "name": "stdout",
     "output_type": "stream",
     "text": [
      "\n",
      "----------------------------------------------------------------------\n",
      " Classification Metrics: Test Data\n",
      "----------------------------------------------------------------------\n",
      "              precision    recall  f1-score   support\n",
      "\n",
      "        high       0.83      0.85      0.84       307\n",
      "         low       0.84      0.82      0.83       298\n",
      "\n",
      "    accuracy                           0.84       605\n",
      "   macro avg       0.84      0.84      0.84       605\n",
      "weighted avg       0.84      0.84      0.84       605\n",
      "\n"
     ]
    },
    {
     "data": {
      "image/png": "[encoded data removed]",
      "text/plain": [
       "<Figure size 600x400 with 2 Axes>"
      ]
     },
     "metadata": {},
     "output_type": "display_data"
    }
   ],
   "source": [
    "# Define best model\n",
    "best_model = grid_search.best_estimator_\n",
    "\n",
    "# Evaluate best model\n",
    "fn.evaluate_classification(best_model, X_train, y_train, X_test, y_test)"
   ]
  },
  {
   "cell_type": "markdown",
   "id": "f387e1cf-fcbe-4e2e-9b21-d43ab6fbb66d",
   "metadata": {},
   "source": [
    "The new model did not perform significantly better than the first, with accuracy staying the same and number of mislabeled movies staying within a couple of the original."
   ]
  },
  {
   "cell_type": "markdown",
   "id": "15081071-af4f-4981-ba5a-b83661465018",
   "metadata": {},
   "source": [
    "### Part 2 - Deep NLP (RNNs)"
   ]
  },
  {
   "cell_type": "markdown",
   "id": "80de72ba-f86d-40bd-b4e8-19f887e44872",
   "metadata": {},
   "source": [
    "#### Creating Train, Test, Validation Datasets"
   ]
  },
  {
   "cell_type": "code",
   "execution_count": 20,
   "id": "de8ac13a-cc54-441e-b883-3e1290ae5140",
   "metadata": {},
   "outputs": [
    {
     "data": {
      "text/plain": [
       "low     1224\n",
       "high    1195\n",
       "Name: highlow_rating, dtype: int64"
      ]
     },
     "execution_count": 20,
     "metadata": {},
     "output_type": "execute_result"
    }
   ],
   "source": [
    "## Convert y to integer values using LabelEncoder()\n",
    "# Check y values\n",
    "y.value_counts()"
   ]
  },
  {
   "cell_type": "code",
   "execution_count": 25,
   "id": "ab6c68bb-dfaa-40be-a505-eaf72a1387b4",
   "metadata": {},
   "outputs": [
    {
     "data": {
      "text/plain": [
       "1    1224\n",
       "0    1195\n",
       "Name: highlow_rating, dtype: int64"
      ]
     },
     "execution_count": 25,
     "metadata": {},
     "output_type": "execute_result"
    }
   ],
   "source": [
    "# Convert to integer\n",
    "labeler = LabelEncoder()\n",
    "df['highlow_rating'] = labeler.fit_transform(df['highlow_rating'])\n",
    "y = df['highlow_rating']\n",
    "y.value_counts()"
   ]
  },
  {
   "cell_type": "code",
   "execution_count": 29,
   "id": "a04aac40-d61b-4110-b293-3643ccb7e7d1",
   "metadata": {},
   "outputs": [],
   "source": [
    "# Convert to Dataset Object\n",
    "ds = tf.data.Dataset.from_tensor_slices((X, y))\n",
    "# Shuffle dataset\n",
    "ds = ds.shuffle(buffer_size=len(ds), reshuffle_each_iteration=False)"
   ]
  },
  {
   "cell_type": "code",
   "execution_count": 30,
   "id": "774252f2-48ec-4a0e-9c1c-de32894447fd",
   "metadata": {},
   "outputs": [
    {
     "name": "stdout",
     "output_type": "stream",
     "text": [
      "    - train:\t1693 samples \t(53 batches)\n",
      "    - val:  \t483 samples \t(16 batches)\n",
      "    - test: \t243 samples \t(8 batches)\n"
     ]
    }
   ],
   "source": [
    "# Set the ratio of the train, validation, test split\n",
    "split_train = .7\n",
    "split_val =  .2\n",
    "split_test =  1 -( split_train + split_val )\n",
    "# Calculate the number of samples for training and validation data \n",
    "n_train_samples =  int(len(ds) * split_train)\n",
    "n_val_samples = int(len(ds) * split_val)\n",
    "n_test_samples = len(ds) -(n_train_samples + n_val_samples)\n",
    "\n",
    "# Set the batch size\n",
    "BATCH_SIZE =32\n",
    "# How many batches? \n",
    "import math # math.ceil will round up\n",
    "n_train_batches = math.ceil(n_train_samples/BATCH_SIZE)\n",
    "n_val_batches = math.ceil(n_val_samples/BATCH_SIZE)\n",
    "n_test_batches = math.ceil(n_test_samples/BATCH_SIZE)\n",
    "print(f\"    - train:\\t{n_train_samples} samples \\t({n_train_batches} batches)\")\n",
    "print(f\"    - val:  \\t{n_val_samples} samples \\t({n_val_batches} batches)\")\n",
    "print(f\"    - test: \\t{n_test_samples} samples \\t({n_test_batches} batches)\")"
   ]
  },
  {
   "cell_type": "code",
   "execution_count": 34,
   "id": "5676e1ac-3a26-47c6-99b7-0530feffccc1",
   "metadata": {},
   "outputs": [
    {
     "name": "stdout",
     "output_type": "stream",
     "text": [
      " There are 53 training batches.\n",
      " There are 16 validation batches.\n",
      " There are 8 testing batches.\n"
     ]
    }
   ],
   "source": [
    "# Use take and skip to define each set\n",
    "train_ds = ds.take(n_train_samples).batch(batch_size=BATCH_SIZE)\n",
    "val_ds = ds.skip(n_train_samples).take(n_val_samples).batch(batch_size=BATCH_SIZE)\n",
    "test_ds = ds.skip(n_train_samples + n_val_samples).batch(batch_size=BATCH_SIZE)\n",
    "\n",
    "# Confirm the number of batches in each\n",
    "print (f' There are {len(train_ds)} training batches.')\n",
    "print (f' There are {len(val_ds)} validation batches.')\n",
    "print (f' There are {len(test_ds)} testing batches.')"
   ]
  },
  {
   "cell_type": "markdown",
   "id": "c28dedb1-6e47-4c5a-886e-fd70c0d56487",
   "metadata": {},
   "source": [
    "#### Creating a Keras Vectorization Layer"
   ]
  },
  {
   "cell_type": "code",
   "execution_count": 35,
   "id": "6cc0073f-d0a7-44be-b3eb-5941891feac6",
   "metadata": {},
   "outputs": [],
   "source": [
    "# Create keras text vect layer for RNN sequence model\n",
    "SEQUENCE_LENGTH = 100\n",
    "sequence_vectorizer = tf.keras.layers.TextVectorization(\n",
    "    standardize=\"lower_and_strip_punctuation\",\n",
    "    output_mode=\"int\",\n",
    "    output_sequence_length=SEQUENCE_LENGTH\n",
    ")"
   ]
  },
  {
   "cell_type": "code",
   "execution_count": 39,
   "id": "69ce85e0-8ed3-48d9-af33-9649a39009ee",
   "metadata": {},
   "outputs": [
    {
     "data": {
      "text/plain": [
       "<tf.Tensor: shape=(32,), dtype=string, numpy=\n",
       "array([b\"Now that's awesome!\\r\\n\\r\\nWhere to start with <em>'Curse of the Golden Flower'</em>? Firstly, I need to show some appreciation for the score - incredible! From the very first scene I knew I was in for a treat in that department, it sets the tone perfectly throughout.\\r\\n\\r\\nThis also features outstanding performances from Gong Li (!), Chow Yun-fat, Chen Jin and Jay Chou, among some others. I was particularly impressed by Gong, she truly is terrific from beginning to end - as what is a memorable character. I know I say this a lot with actors, but I'm gonna need to try and check out more of her filmography!\\r\\n\\r\\nChow is the only actor in this that I'm familiar with, but this clearly tops what I've seen (not enough, granted) of him thus far - still a fan of him as Sao Feng in <em>'Pirates of the Caribbean: At World's End'</em>, though. The rest of those onscreen, despite the commanding presence of the aforementioned, still manage to standout in my memory as well, from earlier noted Chen and Chou to Li Man to Liu Ye.\\r\\n\\r\\nThe costumes, the sets... I personally do not think this film really put a foot wrong in terms of how it's made. How about those battle sequences too? Visually stunning, but also audibly so. The ending didn't go the way I was expecting, which is very much a positive thing.\\r\\n\\r\\nAdmittedly, this film hit an unwritten cheat code for me. As in: Give me strong performances and a great score and I am hook, line, and sinker. This Zhang Yimou flick gave me that in abundance. Overall, in my opinion: top notch!\",\n",
       "       b'Definitely not for everyone, this is a niche-of-a-niche type of film: psychedelic-art-horror with a dash of comedy. And I loved it. Some incredible shots and scenes with tons of mind bending crap. So much going on. After a first watch, I think a few of the scenes could probably have been cut a little shorter but I don\\'t know... I need to watch again. And I *want* to watch it again.\\r\\n\\r\\nI felt Nic Cage\\'s particular brand of acting fit perfectly...\\r\\n\\r\\n<span style=\"background-color: black\">I think the bathroom scene, even though a little out of place, is such a classic Nic Cage scene. Jarring, the acting in that scenes was... not good, but so Nic Cage. </span>\\r\\n\\r\\nI knew going in that this was probably going to be a movie I\\'d like, but had prepared myself to be disappointed.  I wasn\\'t disappointed at all. I think this is destined to be a cult classic.',\n",
       "       b'Undoubtedly worth a watch; who knew portraits were the Tinder of the 1700s.',\n",
       "       b\"Some of it was kinda funny, but mostly the gross-out humour was plastered on with a trowel. There didn't need to be that much time spent inside an elephant. \\r\\n\\r\\nAlso what's with all the super dated music cues?\\r\\n\\r\\nMeh\",\n",
       "       b\"Chris Pine does a really good job, brings his A-Game.\\r\\n\\r\\nKeira Knightley, well, OK, she is pretty under-rated and ALWAYS seems to bring her A-Game even to the worst possible movies.... and she brought her A-Game again.\\r\\n\\r\\nAnd Kevin Costner, well he can be off the mark every now and again, but he seemed to try his best to make this movie good.\\r\\n\\r\\nAnd that is why it's watchable. Pine, Knightley, and Costner all bring their best games to this film and do their absolute best to make Shadow Recruit a good movie....\\r\\n\\r\\n.... and this is despite the HORRIBLE SCRIPT and mostly incompetent direction. Branagh has always been a better actor than he ever was a director, and when it comes to a movie that needs to be taunt and stressful.... they needed someone else.\\r\\n\\r\\nBut then, they also needed a script that could build tension and a director that can work with it, not just do the same trick he failed to execute properly with Frankenstein.\\r\\n\\r\\nSo what you have here are three actors conspiring to save a movie... and unfortunately you need more than three actors doing their absolute best to save a film from a poor script and a poor director.\",\n",
       "       b'I think _Lady Bird_ is my film for 2017 where me and everyone else on the planet just straight up do not see eye to eye. At no point during _Lady Bird_ did I feel drawn in. I genuinely did not enjoy my time with Greta Gerwig\\'s directorial debut. I haven\\'t come across a single other person who feels the same, but I must be honest to my experience.\\r\\n\\r\\nNormally this is where I would say something along the lines of, \"It\\'s just because this isn\\'t my sort of movie\" except that last year _Edge of Seventeen_ dealt with virtually identical subject matter and that was one of my favourite movies of the year.\\r\\n\\r\\nSo I\\'m just wrong I guess?\\r\\n\\r\\n_Final rating:\\xe2\\x98\\x85\\xc2\\xbd: - Boring/disappointing. Avoid where possible._',\n",
       "       b\"If you have ever even so much as heard of Lifetime existing, then you know every single beat of _Unforgettable_ from beginning to end. What it does, it does quite well (and further proves the point I made about Katherine Heigl finding her place in sociopathy when I wrote my _Home Sweet Hell_ review), but it doesn't have a single new thing on offer.\\r\\n\\r\\n_Final rating:\\xe2\\x98\\x85\\xe2\\x98\\x85 - Had some things that appeal to me, but a poor finished product._\",\n",
       "       b\"Didn't know I had a favourite _Rush Hour_ movie until today. I guess I do, and it's this one. Still pretty crap though.\\r\\n\\r\\n_Final rating:\\xe2\\x98\\x85\\xe2\\x98\\x85 - Definitely not for me, but I sort of get the appeal._\",\n",
       "       b'Really good movie staging in a fictional center European country. The drawings are great and the story is as delicate as any other from Miyazaki.',\n",
       "       b\"**Fantastic Psychological Thriller!**\\r\\n\\r\\nIf you're browsing for movies to watch, go into this movie cold; without watching the trailers or any other reviews. A skillfully made thriller that reveals more details upon rewatching. If you enjoy mindf**k movies or science-fiction/psychological thrillers, you will love this film.\",\n",
       "       b\"Ok, I didn't actually see or even really hear about the first one, and this is despite Sam Jackson's involvement. And I will sit through some horrible movies because he was in them.\\r\\n\\r\\nSo there were a few moments where I was a little lost, particularly at the start. Still they were few and far between enough where, like me, you can walk in fresh and it's not really a concern.\\r\\n\\r\\nThere is a LOT that is praise worthy here, but what wowed me the most was how well a cartoon movie could be a period piece of pop art.\\r\\n\\r\\nIt really fit the era right down to the faces and hair, not to mention all the other tiny little details.\\r\\n\\r\\nYeah, yeah, yeah, there was a lot more to it, but in my eyes the era stood out the most and in a pop art way. It made it fun for an old historian like me.\\r\\n\\r\\nAnd for the MCU fans....This is what Captain America Civil War should have been about, and likely was until the plot got twisted\",\n",
       "       b'Bad watch, probably won\\'t watch again, and can\\'t recommend.\\r\\n\\r\\nThere are so many good actors in this movie, and I watched it specifically because it was a movie with Amanda Seyfried about which I hadn\\'t heard.  I understand that it had a point (sort of), but it did feel like there was somewhat unnecessary fan service with her and Heather Graham, and they are unfortunate highlights of the movie.\\r\\n\\r\\nThis is all about the \"art world\", which means it\\'s not about art, the quality / value of at all: it\\'s all about capitalism, so it becomes an business / politics movie.  It\\'s all about these people we don\\'t know or care about diddling each other and trying to out extort each other.\\r\\n\\r\\nIt would be more interesting if it was a nature documentary.\\r\\n\\r\\nWatching rich people shuffle money about for no reason just isn\\'t interesting to me.\\r\\n\\r\\nAnd if I never hear Danny Huston laugh like that again, then my life will be better.',\n",
       "       b\"**Overall : Everything about Baby Driver is fresh, fun, and unique. Don't let this one get away!**\\r\\n\\r\\nBaby Driver stands out as a brilliant, unique, and fun piece of cinema art with its outstanding writing, perfect cast, exceptional stunt work, bold colors, and so much more. This movie gets everything right. However, this film's most impressive feature lies in its soundtrack. The music is a character of the movie interacting with other characters - its beats matching and punctuating what is happening on screen throughout the entire film. One of my favorite heist movies and probably one of my favorite movies of all time.\",\n",
       "       b'If you enjoy reading my Spoiler-Free reviews, please follow my blog :)\\r\\n\\r\\nSometimes, people ask me if I feel less motivated to write about a movie I didn\\xe2\\x80\\x99t like or even simply hated. Not even close. Matter of fact, it might be the exact opposite. The only films which I find hard to write a review on are those who don\\xe2\\x80\\x99t have a single aspect that is either outstanding or horrible. Those who are so \\xe2\\x80\\x9cin the middle\\xe2\\x80\\x9d that you forget about them less than 24h after you\\xe2\\x80\\x99ve seen it. 47 Meters Down: Uncaged could very well be this type of flick, but its ludicrous logical issues story-wise are impossible to ignore. Even the title is just a marketing scheme to attract people who liked the 2017\\xe2\\x80\\x99s original since it is entirely unrelated to it (the water depth at which the characters are is never addressed).\\r\\n\\r\\nThis is one of the worst movies of the year. It still doesn\\xe2\\x80\\x99t beat Serenity, but it made me rethink about the latter\\xe2\\x80\\x99s grade because I find it so incredibly difficult to acknowledge one single good thing about this terrible sequel. Had I scored Matthew McConaughey\\xe2\\x80\\x99s film an F, this one would probably belong there as well. However, in the same way that a film without flaws isn\\xe2\\x80\\x99t necessarily an A+, a movie with no redeeming quality isn\\xe2\\x80\\x99t instantly an F. If there\\xe2\\x80\\x99s one compliment I can give Uncaged is that there are two or three short sequences where a jump scare is effective, or the suspenseful vibe was accomplished \\xe2\\x80\\xa6 Nevertheless, these are still just a couple of minutes in an almost 90-min runtime.\\r\\n\\r\\nThe characters have no development whatsoever. The story follows the most pathetic path possible. The sharks (which are the reason people actually went to the theater) are not as visually realistic as in the original, reaching a point where the CGI was pretty awful. A fish screams \\xe2\\x80\\xa6 I mean, really?! Who the hell supervised this mess? Characters talk underwater seamlessly with no explanation on how they are effectively talking. I could sit here and write dozens of questions that defy the film\\xe2\\x80\\x99s logic, but I\\xe2\\x80\\x99ll stop here. Not because I don\\xe2\\x80\\x99t want to (if this wasn\\xe2\\x80\\x99t a spoiler-free review, I\\xe2\\x80\\x99d go crazy), but due to the fact that the main issue with the movie isn\\xe2\\x80\\x99t the atrociously illogical plot points, but the lack of entertainment.\\r\\n\\r\\nFast and Furious, Pirates of the Caribbean, Transformers \\xe2\\x80\\xa6 All of these are (financially) successful franchises. Audiences all over the world fill theaters and enjoy these series for what they are: popcorn entertainment. No one goes for the complex plots or layered characters. People go for the action, the explosions, the epic scores, the visual effects, and all of that stuff. Uncaged doesn\\xe2\\x80\\x99t have any of that to compensate its other problems. One or two scenes here and there aren\\xe2\\x80\\x99t enough to warrant the price of admission. Even the acting is mediocre. \\r\\n\\r\\nAll in all, 47 Meters Down: Uncaged is nothing more than a silly attempt at the start of a new franchise. Don\\xe2\\x80\\x99t be fooled by its title since it has nothing to do with the original flick. It doesn\\xe2\\x80\\x99t try to introduce compelling characters, the shark sequences fall flat for the most part, and the screenplay is filled with laughable plot points. There\\xe2\\x80\\x99s no sense of logic. For an 89-minute runtime, it astounds me how it can\\xe2\\x80\\x99t be slightly entertaining, to say the least. Undoubtedly, one of the worst films of the year. Skip it, so they don\\xe2\\x80\\x99t have enough money to try and do a third one. Who knows?! Maybe they\\xe2\\x80\\x99ll bet on original, smaller flicks from genuinely talented filmmakers who want to work hard and deliver a good movie.\\r\\n\\r\\nRating: D-',\n",
       "       b\"Some things age like fine wine and in the cinematic world the \\xe2\\x80\\x98Mission: Impossible\\xe2\\x80\\x99 franchise is a great example of the adage. Perhaps it has to do with the 56-year-old Tom Cruise who defies age and pushes his physical boundaries for our viewing pleasure? The answer is quite evident in \\xe2\\x80\\x98Fallout\\xe2\\x80\\x99 as his Ethan Hunt is as good as a caped superhero in the sixth film of the series. The story isn't all that new with its twists and turns. But \\xe2\\x80\\x98Fallout\\xe2\\x80\\x99 manages to build on the previous films in the series by bringing back old friends and foes, besides adding some new ones. Henry Cavill as August Walker fits right into this universe as the hammer to the scalpel that is Ethan Hunt. His presence is looming enough to fill the entire screen whenever he appears. Simon Pegg takes on the status of a series regular alongside Ving Rhames, whose Benji and Luther respectively play more than just mere sidekicks as they add comic levity and heart. Alec Baldwin and Angela Bassett also make a mark in their brief appearances but watch out for impactful turns by Rebecca Ferguson and Michelle Monaghan along the way.\\r\\n\\r\\nWriter & Director Christopher McQuarrie allows each character to shine while building on their history with each other, thus making them endearing to the audience. This only serves to up the ante when they\\xe2\\x80\\x99re in danger. McQuarrie also lets the story breathe by bringing some calm before the storm hits. Which leads to the most crucial aspect of the series, and one that McQuarrie clearly excels at in this film \\xe2\\x80\\x93 the action sequences. Not only are they meticulously planned; they are executed with precision, even when the fist fights are gritty and gruesome. Rob Hardy beautifully choreographs the camerawork following these intricate set-pieces, either allowing you to take in the expanse or bringing you up close and personal when required. This is paired with a soundtrack by Lorne Balfe that lends to the tension by giving the iconic \\xe2\\x80\\x98Mission Impossible\\xe2\\x80\\x99 theme a sinister sense of urgency.\\r\\n\\r\\nMcQuarrie has now directed two \\xe2\\x80\\x98Mission: Impossible\\xe2\\x80\\x99 films; his understanding of the franchise and its characters proves to be the secret weapon of the series. The fact that the stunts are largely done with practical effects featuring the cast, and most prominently Cruise himself, sets a whole new standard for action films. \\xe2\\x80\\x98Mission: Impossible \\xe2\\x80\\x93 Fallout\\xe2\\x80\\x99 is a great mix of plot, pacing and performances that is undeniably the best entry in the franchise, while it re-establishes Cruise\\xe2\\x80\\x99s status as an action superstar.\\r\\n\\r\\nReview by Times of India (TOI)\\r\\nFinal Rating - 4.0/5\",\n",
       "       b\"Marion Cotillard and Matthias Schoenaerts stun in this exceptional drama/romance. \\r\\n\\r\\nDriven by intense inner demons, Schoenaerts destroys everything around him, only to build it back up in a gripping climax that nearly had me in tears. \\r\\n\\r\\nThis was amazing. I have loved everything that I've seen Schoenaerts in and I look forward to exploring more.\",\n",
       "       b'Come all, let\\'s witness an amazing adventure of action, adventure and sci-fi in the movie \"The Flash\" which will be released on June 16, 2023 in the United States. This movie follows the story of Barry Allen, who when trying to save his family unintentionally changes the future and becomes trapped in a reality where General Zod has appeared and there are no superheroes to turn to. To save the world and return to the future he knows, Barry\\'s only hope is to race for his life. But will the ultimate sacrifice be enough to reset the entire universe?\\r\\n\\r\\nThe movie is perfect for movie lovers who are looking for an exciting and suspenseful experience. The film features a talented ensemble cast led by Ezra Miller, Sasha Kali, Michael Keaton and Michael Shannon, which enhance the power of the performance and draw the viewers in with their outstanding performances.\\r\\n\\r\\n\"The Flash\" enjoys a large budget and wide public appreciation, with a cost of $ 190 million, and revenues of $ 267 million, 481 thousand and 43 dollars. This reflects the success of the film and its positive impact on the audience.\\r\\n\\r\\nUltimately, \"The Flash\" combines the powerful elements of action-adventure and sci-fi, while delivering a poignant story about sacrifice for the greater good. So, I invite you to watch this wonderful movie and enjoy an exceptional cinematic experience full of action and suspense.\\r\\n',\n",
       "       b'I thought it was pretty cool. Venom was a pretty good villain marvel film.',\n",
       "       b'Some unaccuracys: He goes to Honk Kong and ends up in Macau.. Mozambique President making a speech in english for is people?!',\n",
       "       b'**Good CGI, good action scenes, good sound, Moscow is an interesting place, but everything else is so weak and stupid that it\\'s not worth watching this movie twice.**\\r\\n\\r\\nI decided to watch this film yesterday, when it was shown on TV, but curiously I was waiting to see another film with a similar title made in 2017. Even so, I didn\\'t give up my time: even though I didn\\'t have much predilection for alien invasion films, the film is quite dynamic, has good action scenes and a good amount of high quality CGI, and so it is, at least, a piece of entertainment that we don\\'t regret watching... once. Just once.\\r\\n\\r\\nLet\\'s start with the good stuff: the scenes take place in Moscow, the Russian megalopolis, long before we ostracized the country due to aggression against neighboring Ukraine, when Russians seemed to want to have more contact with Westerners. This was a real breath of fresh air because in sci-fi films we almost only see US cities. I also believe that filming in Russia was a strategic option for the production to be able to film at lower costs. In addition to the clever use of the filming locations (which include Red Square and the GUM Shopping Center), the film offers us a massive dose of high-quality CGI, which we see in greater glory when the aliens appear. But the whole film is a feast of CGI and visual effects. The sound effects are also very good, and the action and running scenes are fun enough to keep the film moving.\\r\\n\\r\\nAnd unfortunately, good things end here. Everything else is so full of flaws and problems that make the film unworthy of a second chance. This is just my opinion, but I think we can all agree on one point: there are a lot of films about alien invasions, and it doesn\\'t take much thinking to remember two or three that make this film a total joke.\\r\\n\\r\\nThe film is directed by Chris Gorak, but it seems like he was more fascinated with CGI and action than trying to direct. Thus, we have a very young cast who are left to their own devices and who interpret the characters according to what seems most appropriate to them. Emile Hirsch did an excellent work in \\xe2\\x80\\x9cInto the Wild\\xe2\\x80\\x9d just before this, but he had a solid character and was well directed. Here, he has none: the result is a tepid, vague, lifeless interpretation without any personality. His partner Max Minghella, who had just done \\xe2\\x80\\x9cThe Social Network\\xe2\\x80\\x9d, was not a good choice for his character. He is one of those actors who is \\xe2\\x80\\x9calways the bridesmaid and never the bride\\xe2\\x80\\x9d, so to speak: his lack of presence and charisma put him far from the main roles, although he is an option for supporting cast. Joel Kinnaman is stupidly weak as the villain: he behaves like a high school bully, and his character is as thin as paper. Olivia Thirlby also does little for the film, with a character who merely looks sexy, and who we expect to see kissing one of the boys at some point. Worse luck was Rachael Taylor, who is irritating to the point that we say hallelujah when her character finally dies. And the Russian cast? I don\\'t know any of the actors, but I even liked Veronika Vernadskaya a little. Unfortunately, the Russian cast seems to be there only for us to see the Russians as perpetual badasses, a \"Rambo nation\" on horseback with machine guns. Putin certainly enjoyed seeing this in a Western film.\\r\\n\\r\\nAs bad as the cast and their performance, the script copies moments and elements from several sci-fi films (\\xe2\\x80\\x9cCloverfield\\xe2\\x80\\x9d, for example) to create a story where there is no logical sense or real threat. It\\'s truly unfortunate that, with such good CGI and such well-chosen filming locations, the film is unable to cause a single shiver of tension in the audience. In addition to a rather weak story, there are several moments in which the film seems to be mocking our intelligence: Moscow is one of the most densely populated places in the world: it makes sense that, even after the city is devastated in the first attack, there are only five or six people wandering the streets? Seeing a commercial plane crashed in a shopping center is sensational, but where did its wings end up? And why is there no fire, debris or explosions resulting from the collision? The film ends with a nuclear submarine setting sail from the Moscow River. However, you don\\'t need to be a Muscovite or even a Russian to see that this watercourse doesn\\'t have the depth or width to maneuver such a big thing! To think that the public will believe this things is insulting.',\n",
       "       b\"**X2 takes the X-Men far beyond the scope of the first movie with exciting new characters, manipulative villains, and bigger effects and stories.**\\r\\n\\r\\nX2 forever stands as one of my favorite sequels of all time. It deepens its characters' backstories, expands the universe, increases the stakes, and creates new conflicts lasting beyond this franchise entry, promising more to come. The opening scene blew my mind when I first saw it and really showcased the power a single mutant could possess. The struggle between light and dark, both in humanity and mutants, was a theme throughout and highlighted in a multitude of ways. Exploring Wolverine's mysterious past and tying it into the overall conflict of the X-Men was a wise choice rather than having Logan search for answers alone. In addition, the women of the X-Men, Jean Grey and Storm, along with Mystique, saw more significant roles and character development. X2 was the Empire Strikes Back of the original X-Men trilogy- better in every way, with exciting new characters, threats, stories, and effects. X2 deserves a place as one of the greatest comic book movies and sequels of all time.\",\n",
       "       b'FULL SPOILER-FREE REVIEW @ https://www.msbreviews.com/movie-reviews/death-on-the-nile-spoiler-free-review\\r\\n\\r\\n\"Death on the Nile retains the problems of its predecessor, containing an even less mysterious central mystery and even less interesting multiple storylines. Kenneth Branagh is the great savior, offering a distinctive directing style and an iconic performance as Hercule Poirot.\\r\\n\\r\\nDespite some good displays and a couple of pleasant arcs, Michael Green\\'s screenplay relies too much on its heavy exposition, not managing to escape the forced, dull, redundant dialogues. The audiovisual environment surrounding the entire film reeks of digital deception, sweating its green screen throughout the runtime.\\r\\n\\r\\nA whodunnit is worth more than merely finding the criminal, but the resolution literally being the first option that the first act suggests leaves an inevitable taste of disappointment.\"\\r\\n\\r\\nRating: C-',\n",
       "       b\"If _Red Sparrow_ was the crap version of _Atomic Blonde_, when the Hell does that make the crap version of _Red Sparrow_?\\r\\n\\r\\n...Fuckin' _Anna_ I guess.\\r\\n\\r\\n_Final rating:\\xe2\\x98\\x85\\xc2\\xbd: - Boring/disappointing. Avoid where possible._\",\n",
       "       b'I was never a fan of the original Mad Max films but this one just blew me away. There was something so powerfully visceral about this on the big screen. It was a fun on assault on the sense , in a good way. Its spectacle rather than plot driven so may not fare as well on the smaller screen. Watch on the largest possible tv in a darkened room with the phone and other gadgets off. Crank up the volume.',\n",
       "       b'John Wick: Chapter 3 - Parabellum picks up right where the sequel left off, with Wick being excommunicated from the assassin underworld. The bounty is set at $14 million and Wick has an hour to escape the city before his former associates come to collect.\\r\\n\\r\\nWhile the plot might not be as strong as the sequel, it continues the same story points seamlessly. This film feels more like a continuation of larger narrative spanning across franchise, rather than separate semi-connected story like the first two. This film is bigger than the last, with vast and diverse landscapes for Wick to create havoc in. The lore of world is expanded showing us more of the assassin leadership and how the chain of command works. All of the new additional characters worked well and were integrated into the story perfectly.\\r\\n\\r\\nThe action is picked up a notch, creating some of the craziest sequences I have ever seen on the screen. The fight inside of the knife shop was insane, it left me with my mouth literally dropping to the floor. It is one of my favorite action sequences in any film. One thing I particularly liked is the sense of desperation and isolation that surrounds our main character. We see John Wick tested to the extremes, pushing the boundaries resulting in creative stunts and tactics to fight off multiple assassins at a time. It was really fantastic. The cinematography was incredible here as well. This film shows that with good choreography and a wide shot, you can create gripping scenes that do not require fifteen different jump cuts. The motorcycle chase has got to be one of the most breathtaking and seamless action sequences I have ever seen.\\r\\n\\r\\nThe acting quality sees a significant increase in quality when compared to the first two entries. Keanu Reeves is still Keanu Reeves, delivering a fairly cheesy and awkward performance, but that is what you come to expect and cherish about this franchise. The addition of Halle Berry and Asia Dillon were fantastic as the both added some serious dramatic acting beats that raised the quality of the film immensely. Berry and Wick had some great chemistry together.\\r\\n\\r\\nOverall, this film is excellent and if each entry can build upon the last like history has shown, the sky is the limit for this franchise.\\r\\n\\r\\nScore: 87%\\r\\nVerdict: Excellent',\n",
       "       b'If you enjoy reading my Spoiler-Free reviews, please follow my blog @\\r\\nhttps://www.msbreviews.com\\r\\n\\r\\nFirst of all, no, I have no knowledge of the TV series this film is based upon, and after watching Jeff Wadlow\\'s adaptation, I\\'m definitely not watching anything related to this story. I always follow this principle: the two pillars of any movie are its story and characters. It doesn\\'t matter if everything else is absolutely perfect. If the two central pieces fail to convince the audience, then the whole movie falls to the ground. Sometimes, there are some crumbles that remain intact. Very rarely, there\\'s a big segment that has no scratches whatsoever, which can help the film to survive and, even more rarely, actually make it \"okay\".\\r\\n\\r\\nFantasy Island has two little crumbles named Portia Doubleday (Sloane) and Maggie Q (Gwen), who deliver good performances, especially the former who everyone knows from one of the best TV shows of all-time, Mr. Robot. Everything else is completely destroyed. The Grudge still has a couple of redeeming moments, but Fantasy Island is undoubtedly the worst movie of the year, so far. The before-mentioned two pillars are built with the most annoying, cliche characters, as well as a ridiculous narrative that ultimately brings the whole thing down.\\r\\n\\r\\nThe third act possesses some of the most nonsensical, irrational, and illogical plot twists I\\'ve ever witnessed. This is 2020\\'s version of Serenity, also a movie with an absurd twist that only turns the film even worse than what it was. The big difference between the two plot twists is that Serenity\\'s was predictable from the get-go. Fantasy Island\\'s last twenty minutes are profoundly unexpected because no sane soul would have thought of such a baffling narrative decision.\\r\\n\\r\\nThe best way to describe the twist without spoiling a thing (and I won\\'t) is through the editing. During the exposition-heavy revelation, the editing is so awkwardly choppy that it made me think it was all fake. I genuinely thought the plot twist was a false sequence. When I realized it wasn\\'t, I simply laughed like a maniac because I couldn\\'t believe someone thought this made logical sense. Usually, a plot twist carries some sort of build-up, even if it\\'s literally a couple of minutes before the explicit revelation.\\r\\n\\r\\nThis one just happens. Without any preparation, a character just shows up on the screen and begins explaining everything. It simply doesn\\'t make any logical sense. It generates so many incongruencies with the whole story that I lost count of the plot holes I was able to point out. The film starts with establishing a few rules, only for an hour later to ignore or change them completely. A particular character acts a certain way without any plausible reason as to why. If the screenplay wasn\\'t messy and confusing enough, the characters are also horribly-written.\\r\\n\\r\\nI never enjoy writing that an actor failed to do its job, but Ryan Hansen (JD Weaver) is the weak link of the cast, even if every single script is dreadful. Even the casting doesn\\'t make sense: Michael Pe\\xc3\\xb1a as a dramatic Mr. Roarke? A character supposed to be serious and mysterious? It\\'s Michael Pe\\xc3\\xb1a! I don\\'t want to insinuate that he can only do comedy, but making him the villain (if I can call him that) is another addition to the list of questionable production decisions. Lucy Hale (Melanie) is fine as the protagonist, but it all comes down to the lazy, unimaginative scripts. Everything is so unbelievably messy that I don\\'t even have any sort of technical remarks... Maybe that the beginning of the film and the actual concept look interesting. That\\'s the only compliment I can think of: it wasn\\'t a bad idea (different fantasies, different genres, it could have been a fun mix of styles).\\r\\n\\r\\nFantasy Island is undoubtedly the worst film of the year until now. Consider it 2020\\'s version of last year\\'s Serenity, but with a third act\\'s plot twist that is so unexpected, everyone will have their jaws on the floor due to how nonsensical it is. The story wasn\\'t close to being decent until the revelation, and it only turned into something a lot worse after it. Dozens of incongruencies and massive plot holes are generated due to the ridiculous attempt at a Shyamalan-like twist. If the absurd narrative decisions aren\\'t enough, the horrible character scripts don\\'t help the not-that-great acting, with the exception of Portia Doubleday and Maggie Q, the only good aspects of the whole movie. In the end, the two pillars of any movie (story and characters) are a total failure, making everything else fall apart with no possible salvation.\\r\\n\\r\\nRating: F',\n",
       "       b'The special effects are great, the scenery and photography is lovely but the film is as a whole a big disappointment. You would have thought that with such a budget they could have hired some guy to make a basic sanity check of the script but obviously that wasn\\xe2\\x80\\x99t in the budget for this one. I do not know if a lot of Hollywood people are idiots or think the audience are idiots or both but for Christ sake, how difficult can it be to come up with a plot that holds together and are at least half believable?\\r\\n\\r\\nA trillion dollar expedition to discover the \\xe2\\x80\\x9cmakers of mankind\\xe2\\x80\\x9d and they put together a band of asocial morons for crew where not even the scientists among them seems to have met each other before the wake up millions of miles from Earth.\\r\\n\\r\\nAlmost everyone behaves in a completely unbelievable way. Yeah, it looks okay so let\\xe2\\x80\\x99s remove the helmets for instance? Right, apart from the immediate danger to your own health, what about quarantine procedures\\xe2\\x80\\xa6idiots?\\r\\n\\r\\nWhy did the robot put the mutagen in the drink? It\\xe2\\x80\\x99s just illogical and never really adequately explained. Speaking of robots, robots have a power source and it\\xe2\\x80\\x99s not spread all over them. If you rip their head of they do not continue to talk like nothing had happened. In the original Alien they at least had to hook him up to something. It goes on. The entire film is just a jumble of illogical acts one after another. \\r\\n\\r\\nThen we have the ending. What a joke. Apart from the fact that Elizabeth\\xe2\\x80\\x99s actions are just ridiculous, how does she expect to live on a alien ship without food or any other supplies?\\r\\n\\r\\nThis film had good promise. The idea of getting to know the origin of the aliens intrigued me and the basic plot idea was cool. However, the film was really ruined by a script obviously written by total morons.',\n",
       "       b'There can\\'t be such devils out there. \\r\\n\\r\\nThe Pledge is directed by Sean Penn and adapted to screenplay by Jerzy Kromolowski and Mary Olson-Kromolowski from Friedrich D\\xc3\\xbcrrenmatt\\'s novel, \"The Promise\". It stars Jack Nicholson, Robin Wright Penn, Aaron Eckhart, Sam Shepard, Patricia Clarkson, Helen Mirren, Tom Noonan, Benicio Del Toro, Mickey Rourke, Dale Dickey, Vanessa Redgrave and Harry Dean Stanton. Music is by Klaus Badelt and Hans Zimmer, and cinematography by Chris Menges.\\r\\n\\r\\nPolice chief Jerry Black (Nicholson) is literally on his last day before retitement. But during his leaving party news filters through that a young girl has been brutally murdered. Talking his chiefs into letting him tag along to the crime scene, Black ends up breaking the dredful news to the girl\\'s parents. There he pledges to the mother that he will find her daughter\\'s killer.\\r\\n\\r\\nD\\xc3\\xbcrrenmatt\\'s source material has been mined a few times for other filmic ventures, where the best of the other bunch is \"Es geschah am hellichten Tag\" (\"It Happened in Broad Daylight\"). It is here, though, in Sean Penn\\'s hands, that we get the version that got two thumbs up from the author, mostly because of the ending staying true to his work.\\r\\n\\r\\nIt should be noted from the off that this is not police procedural detective piece. This is a slow burn, moody and edgy picture, the kind that Penn excells at as an actor. Thankfully, in spite of it losing money at the box office, it shows Penn the perfect director for such material.\\r\\n\\r\\nIt obviously isn\\'t a film for everyone, more so if not prepared for it being a picture about one man\\'s tumbling emotional descent. As Jerry Black searches for the perpretrator of heinious crimes, he also is faced with a moral judgement call and a major affair of the heart.\\r\\n\\r\\nThe trick of the screnplay here is not in the red herrings and the little dangles of clues that appear to be on offer to Jerry, it\\'s that we are never quite sure if Jerry is actually right in his belief of a child serial killer at work. Is it the product of a man so driven by the pledge he made, that he isn\\'t thinking straight? Or worse losing his grip on sanity? The answer will only will out with the clinically daring finale. \\r\\n\\r\\nLead actors Nicholson and Wright Penn turn in some of their finest work, both responding to Sean\\'s probing of troubled souls in search of an exit. There\\'s an array of quality support actors in small parts, which is a testament to the pull that working with Penn did appeal. The musical score is nervy and sits smartly with the ethereal tones that Menges brings via his photographic lenses.\\r\\n\\r\\nThe Pledge is a haunting and disturbing character study that refuses to cop out. It achieves its aims and wasn\\'t going to pander to any crowd pleasing bums on seats tactics. A dark thriller for grown ups who have the patience for such a telling, and perhaps more crucially are prepared to have their emotions tested with the finale. 9/10',\n",
       "       b\"Hopefully this brings an end to a dreadful trilogy. Not as terrible as the first one at least but this had nothing to offer and yet another one of these movies where an evil supernatural entity seems more intent on f'ing around with the characters rather than actually harming them. One upside was the acting at least wasn't terrible and, albeit they were only in it for 10-minutes, I did like seeing Patrick Wilson and Vera Farmiga. **1.75/5**\",\n",
       "       b'Great Movie! Loved the plot and the twist. Tense throughout. Glimps of The Usual Suspect\\r\\nAll star cast. Must watch',\n",
       "       b'In 2257 AD, the colonists of the planet New World, all men, have been afflicted with a condition called the Noise, which causes everyone to see and hear each other\\'s thoughts. Judging by the level of intelligence the characters exhibit, this ought be a deafeningly silent planet. \\r\\n\\r\\nPeople who colonize a new world and literally call it \"New World\" can\\'t have much in their minds (perhaps they should have called it Planet Faulkner, since everyone here seems to think in an uncontrollable stream of consciousness and/or has the mental faculties of a Benjy Compson). When sort of halo envelops their heads when they \\'think,\\' it\\xe2\\x80\\x99s like the light is on but no one\\xe2\\x80\\x99s home. \\r\\n\\r\\nThe only one here who manages to avoid appearing like a complete idiot is Mads Mikkelsen, and only because the Danish actor is too smart to play this dumb; his character, David Prentiss, is not particularly brilliant, but one can at least give him the benefit of the doubt \\xe2\\x80\\x94 after all, he\\xe2\\x80\\x99s more insane than he is inane. \\r\\n\\r\\nPrentiss is the only one who has learned to control his \"Noise\", which shouldn\\'t be too difficult; ever heard the expression \\'think before you speak?\\' I don\\xe2\\x80\\x99t think it\\xe2\\x80\\x99d really be all that hard to \\'think before you think;\\' these characters, however, are mentally incontinent. \\r\\n\\r\\nEither director Doug Liman and screenwriters Patrick Ness and Christopher Ford are as dumb as the movie they\\'ve made, or they assume the audience is. For some reason, women can see and hear men\\'s thoughts, but men can\\'t see and hear women\\xe2\\x80\\x99s \\xe2\\x80\\x94 making the \\xe2\\x80\\x9cNoise\\xe2\\x80\\x9d nothing more than a clumsy allegory for female intuition.\\r\\nThis actually has to do directly with the lack of women in Prentisstown (of which, as the name suggests, Prentiss is the mayor), in a twist preposterous enough to make M. Night Shyamalan himself scratch his head in disbelief.',\n",
       "       b'Idiot Stupid Dumb movie for Dumb Stupid Idiots.\\r\\n\\r\\n_Final rating:\\xe2\\x98\\x85 - Of no value. Avoid at all costs._'],\n",
       "      dtype=object)>"
      ]
     },
     "execution_count": 39,
     "metadata": {},
     "output_type": "execute_result"
    }
   ],
   "source": [
    "# Get just the text from ds_train\n",
    "ds_texts = train_ds.map(lambda x, y: x)\n",
    "# Preview the text\n",
    "ds_texts.take(1).get_single_element()"
   ]
  },
  {
   "cell_type": "code",
   "execution_count": 40,
   "id": "9e44b062-7f95-40e6-8162-3812e621053e",
   "metadata": {},
   "outputs": [],
   "source": [
    "# Train model\n",
    "sequence_vectorizer.adapt(ds_texts)"
   ]
  },
  {
   "cell_type": "code",
   "execution_count": 45,
   "id": "57c90ad2-0ec4-460d-b936-078eba9ec1af",
   "metadata": {},
   "outputs": [],
   "source": [
    "# Getting list of vocab\n",
    "vocab = sequence_vectorizer.get_vocabulary()\n",
    "int_to_str = {idx: word for idx, word in enumerate(vocab)}"
   ]
  },
  {
   "cell_type": "code",
   "execution_count": 41,
   "id": "c586b3a9-d587-4172-974c-8659c22f23f1",
   "metadata": {},
   "outputs": [
    {
     "data": {
      "text/plain": [
       "24923"
      ]
     },
     "execution_count": 41,
     "metadata": {},
     "output_type": "execute_result"
    }
   ],
   "source": [
    "# Programmatically define size of vocab from vectorization layer\n",
    "VOCAB_SIZE = sequence_vectorizer.vocabulary_size()\n",
    "VOCAB_SIZE"
   ]
  },
  {
   "cell_type": "code",
   "execution_count": 43,
   "id": "c6e418f6-6098-4afd-b099-aaadc9051978",
   "metadata": {},
   "outputs": [],
   "source": [
    "## Build an RNN with textVector layer\n",
    "# build and fit at least 1 sequence model (lstm, gru, bidirectional, etc)\n",
    "\n",
    "\n",
    "# evaluate model on training and test data\n",
    "\n",
    "\n"
   ]
  },
  {
   "cell_type": "code",
   "execution_count": 44,
   "id": "7d62ea0c-78df-4552-af78-a96378828211",
   "metadata": {},
   "outputs": [],
   "source": [
    "# In markdown, analyze results"
   ]
  }
 ],
 "metadata": {
  "kernelspec": {
   "display_name": "Python 3 (ipykernel)",
   "language": "python",
   "name": "python3"
  },
  "language_info": {
   "codemirror_mode": {
    "name": "ipython",
    "version": 3
   },
   "file_extension": ".py",
   "mimetype": "text/x-python",
   "name": "python",
   "nbconvert_exporter": "python",
   "pygments_lexer": "ipython3",
   "version": "3.10.10"
  },
  "widgets": {
   "application/vnd.jupyter.widget-state+json": {
    "state": {},
    "version_major": 2,
    "version_minor": 0
   }
  }
 },
 "nbformat": 4,
 "nbformat_minor": 5
}
